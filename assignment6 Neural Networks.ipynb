{
 "cells": [
  {
   "cell_type": "markdown",
   "metadata": {},
   "source": [
    "# Import libraries"
   ]
  },
  {
   "cell_type": "code",
   "execution_count": 91,
   "metadata": {},
   "outputs": [],
   "source": [
    "# Load the required packages\n",
    "import numpy as np\n",
    "import pandas as pd\n",
    "from pandas import DataFrame\n",
    "from keras.models import Sequential\n",
    "from keras.layers import Dense, Dropout, Flatten, Conv2D, MaxPool2D, Activation\n",
    "from keras.utils.np_utils import to_categorical # convert to one-hot-encoding\n",
    "from keras.optimizers import RMSprop, adam\n",
    "from keras.preprocessing.image import ImageDataGenerator\n",
    "from sklearn.preprocessing import MinMaxScaler\n",
    "from sklearn.model_selection import train_test_split\n",
    "from sklearn.metrics import confusion_matrix, accuracy_score, precision_score, recall_score, f1_score, roc_curve, roc_auc_score\n",
    "from time import time\n",
    "import matplotlib\n",
    "import matplotlib.pyplot as plt\n",
    "import os #manage files\n",
    "os.chdir('C:\\\\Users\\\\A4 Dell\\\\Desktop\\\\Northwestern University\\\\Practical Machine Learning\\\\week6')"
   ]
  },
  {
   "cell_type": "markdown",
   "metadata": {},
   "source": [
    "# Read in data and prepare data"
   ]
  },
  {
   "cell_type": "code",
   "execution_count": 47,
   "metadata": {},
   "outputs": [
    {
     "name": "stdout",
     "output_type": "stream",
     "text": [
      "42000\n",
      "28000\n"
     ]
    }
   ],
   "source": [
    "train = pd.read_csv('train.csv') #read in train data\n",
    "test = pd.read_csv('test.csv') #read in test data\n",
    "print(len(train))\n",
    "print(len(test))"
   ]
  },
  {
   "cell_type": "code",
   "execution_count": 48,
   "metadata": {},
   "outputs": [
    {
     "name": "stdout",
     "output_type": "stream",
     "text": [
      "(42000, 784)\n"
     ]
    },
    {
     "data": {
      "text/html": [
       "<div>\n",
       "<style scoped>\n",
       "    .dataframe tbody tr th:only-of-type {\n",
       "        vertical-align: middle;\n",
       "    }\n",
       "\n",
       "    .dataframe tbody tr th {\n",
       "        vertical-align: top;\n",
       "    }\n",
       "\n",
       "    .dataframe thead th {\n",
       "        text-align: right;\n",
       "    }\n",
       "</style>\n",
       "<table border=\"1\" class=\"dataframe\">\n",
       "  <thead>\n",
       "    <tr style=\"text-align: right;\">\n",
       "      <th></th>\n",
       "      <th>pixel0</th>\n",
       "      <th>pixel1</th>\n",
       "      <th>pixel2</th>\n",
       "      <th>pixel3</th>\n",
       "      <th>pixel4</th>\n",
       "      <th>pixel5</th>\n",
       "      <th>pixel6</th>\n",
       "      <th>pixel7</th>\n",
       "      <th>pixel8</th>\n",
       "      <th>pixel9</th>\n",
       "      <th>...</th>\n",
       "      <th>pixel774</th>\n",
       "      <th>pixel775</th>\n",
       "      <th>pixel776</th>\n",
       "      <th>pixel777</th>\n",
       "      <th>pixel778</th>\n",
       "      <th>pixel779</th>\n",
       "      <th>pixel780</th>\n",
       "      <th>pixel781</th>\n",
       "      <th>pixel782</th>\n",
       "      <th>pixel783</th>\n",
       "    </tr>\n",
       "  </thead>\n",
       "  <tbody>\n",
       "    <tr>\n",
       "      <th>0</th>\n",
       "      <td>0</td>\n",
       "      <td>0</td>\n",
       "      <td>0</td>\n",
       "      <td>0</td>\n",
       "      <td>0</td>\n",
       "      <td>0</td>\n",
       "      <td>0</td>\n",
       "      <td>0</td>\n",
       "      <td>0</td>\n",
       "      <td>0</td>\n",
       "      <td>...</td>\n",
       "      <td>0</td>\n",
       "      <td>0</td>\n",
       "      <td>0</td>\n",
       "      <td>0</td>\n",
       "      <td>0</td>\n",
       "      <td>0</td>\n",
       "      <td>0</td>\n",
       "      <td>0</td>\n",
       "      <td>0</td>\n",
       "      <td>0</td>\n",
       "    </tr>\n",
       "    <tr>\n",
       "      <th>1</th>\n",
       "      <td>0</td>\n",
       "      <td>0</td>\n",
       "      <td>0</td>\n",
       "      <td>0</td>\n",
       "      <td>0</td>\n",
       "      <td>0</td>\n",
       "      <td>0</td>\n",
       "      <td>0</td>\n",
       "      <td>0</td>\n",
       "      <td>0</td>\n",
       "      <td>...</td>\n",
       "      <td>0</td>\n",
       "      <td>0</td>\n",
       "      <td>0</td>\n",
       "      <td>0</td>\n",
       "      <td>0</td>\n",
       "      <td>0</td>\n",
       "      <td>0</td>\n",
       "      <td>0</td>\n",
       "      <td>0</td>\n",
       "      <td>0</td>\n",
       "    </tr>\n",
       "    <tr>\n",
       "      <th>2</th>\n",
       "      <td>0</td>\n",
       "      <td>0</td>\n",
       "      <td>0</td>\n",
       "      <td>0</td>\n",
       "      <td>0</td>\n",
       "      <td>0</td>\n",
       "      <td>0</td>\n",
       "      <td>0</td>\n",
       "      <td>0</td>\n",
       "      <td>0</td>\n",
       "      <td>...</td>\n",
       "      <td>0</td>\n",
       "      <td>0</td>\n",
       "      <td>0</td>\n",
       "      <td>0</td>\n",
       "      <td>0</td>\n",
       "      <td>0</td>\n",
       "      <td>0</td>\n",
       "      <td>0</td>\n",
       "      <td>0</td>\n",
       "      <td>0</td>\n",
       "    </tr>\n",
       "    <tr>\n",
       "      <th>3</th>\n",
       "      <td>0</td>\n",
       "      <td>0</td>\n",
       "      <td>0</td>\n",
       "      <td>0</td>\n",
       "      <td>0</td>\n",
       "      <td>0</td>\n",
       "      <td>0</td>\n",
       "      <td>0</td>\n",
       "      <td>0</td>\n",
       "      <td>0</td>\n",
       "      <td>...</td>\n",
       "      <td>0</td>\n",
       "      <td>0</td>\n",
       "      <td>0</td>\n",
       "      <td>0</td>\n",
       "      <td>0</td>\n",
       "      <td>0</td>\n",
       "      <td>0</td>\n",
       "      <td>0</td>\n",
       "      <td>0</td>\n",
       "      <td>0</td>\n",
       "    </tr>\n",
       "    <tr>\n",
       "      <th>4</th>\n",
       "      <td>0</td>\n",
       "      <td>0</td>\n",
       "      <td>0</td>\n",
       "      <td>0</td>\n",
       "      <td>0</td>\n",
       "      <td>0</td>\n",
       "      <td>0</td>\n",
       "      <td>0</td>\n",
       "      <td>0</td>\n",
       "      <td>0</td>\n",
       "      <td>...</td>\n",
       "      <td>0</td>\n",
       "      <td>0</td>\n",
       "      <td>0</td>\n",
       "      <td>0</td>\n",
       "      <td>0</td>\n",
       "      <td>0</td>\n",
       "      <td>0</td>\n",
       "      <td>0</td>\n",
       "      <td>0</td>\n",
       "      <td>0</td>\n",
       "    </tr>\n",
       "  </tbody>\n",
       "</table>\n",
       "<p>5 rows × 784 columns</p>\n",
       "</div>"
      ],
      "text/plain": [
       "   pixel0  pixel1  pixel2  pixel3  pixel4  pixel5  pixel6  pixel7  pixel8  \\\n",
       "0       0       0       0       0       0       0       0       0       0   \n",
       "1       0       0       0       0       0       0       0       0       0   \n",
       "2       0       0       0       0       0       0       0       0       0   \n",
       "3       0       0       0       0       0       0       0       0       0   \n",
       "4       0       0       0       0       0       0       0       0       0   \n",
       "\n",
       "   pixel9    ...     pixel774  pixel775  pixel776  pixel777  pixel778  \\\n",
       "0       0    ...            0         0         0         0         0   \n",
       "1       0    ...            0         0         0         0         0   \n",
       "2       0    ...            0         0         0         0         0   \n",
       "3       0    ...            0         0         0         0         0   \n",
       "4       0    ...            0         0         0         0         0   \n",
       "\n",
       "   pixel779  pixel780  pixel781  pixel782  pixel783  \n",
       "0         0         0         0         0         0  \n",
       "1         0         0         0         0         0  \n",
       "2         0         0         0         0         0  \n",
       "3         0         0         0         0         0  \n",
       "4         0         0         0         0         0  \n",
       "\n",
       "[5 rows x 784 columns]"
      ]
     },
     "execution_count": 48,
     "metadata": {},
     "output_type": "execute_result"
    }
   ],
   "source": [
    "y_train = train[\"label\"]\n",
    "X_train = train.drop('label', 1)  #drop label variable\n",
    "print(X_train.shape)     #dataframe size\n",
    "X_train.head()"
   ]
  },
  {
   "cell_type": "markdown",
   "metadata": {},
   "source": [
    "# Exploratory data analysis"
   ]
  },
  {
   "cell_type": "code",
   "execution_count": 49,
   "metadata": {},
   "outputs": [
    {
     "data": {
      "text/plain": [
       "1    4684\n",
       "7    4401\n",
       "3    4351\n",
       "9    4188\n",
       "2    4177\n",
       "6    4137\n",
       "0    4132\n",
       "4    4072\n",
       "8    4063\n",
       "5    3795\n",
       "Name: label, dtype: int64"
      ]
     },
     "execution_count": 49,
     "metadata": {},
     "output_type": "execute_result"
    }
   ],
   "source": [
    "y_train.value_counts()   #check the frequency distribution of y (0-9 possible categories)"
   ]
  },
  {
   "cell_type": "code",
   "execution_count": 50,
   "metadata": {},
   "outputs": [
    {
     "data": {
      "text/plain": [
       "<matplotlib.axes._subplots.AxesSubplot at 0x142900fae10>"
      ]
     },
     "execution_count": 50,
     "metadata": {},
     "output_type": "execute_result"
    },
    {
     "data": {
      "image/png": "[encoded data removed]",
      "text/plain": [
       "<Figure size 432x288 with 1 Axes>"
      ]
     },
     "metadata": {
      "needs_background": "light"
     },
     "output_type": "display_data"
    }
   ],
   "source": [
    "import seaborn as sns\n",
    "sns.countplot(y_train)  "
   ]
  },
  {
   "cell_type": "code",
   "execution_count": 51,
   "metadata": {},
   "outputs": [
    {
     "data": {
      "text/plain": [
       "count       784\n",
       "unique        1\n",
       "top       False\n",
       "freq        784\n",
       "dtype: object"
      ]
     },
     "execution_count": 51,
     "metadata": {},
     "output_type": "execute_result"
    }
   ],
   "source": [
    "#check the predictors\n",
    "X_train.isnull().any().describe()"
   ]
  },
  {
   "cell_type": "code",
   "execution_count": 52,
   "metadata": {},
   "outputs": [
    {
     "data": {
      "text/html": [
       "<div>\n",
       "<style scoped>\n",
       "    .dataframe tbody tr th:only-of-type {\n",
       "        vertical-align: middle;\n",
       "    }\n",
       "\n",
       "    .dataframe tbody tr th {\n",
       "        vertical-align: top;\n",
       "    }\n",
       "\n",
       "    .dataframe thead th {\n",
       "        text-align: right;\n",
       "    }\n",
       "</style>\n",
       "<table border=\"1\" class=\"dataframe\">\n",
       "  <thead>\n",
       "    <tr style=\"text-align: right;\">\n",
       "      <th></th>\n",
       "      <th>pixel0</th>\n",
       "      <th>pixel1</th>\n",
       "      <th>pixel2</th>\n",
       "      <th>pixel3</th>\n",
       "      <th>pixel4</th>\n",
       "      <th>pixel5</th>\n",
       "      <th>pixel6</th>\n",
       "      <th>pixel7</th>\n",
       "      <th>pixel8</th>\n",
       "      <th>pixel9</th>\n",
       "      <th>...</th>\n",
       "      <th>pixel774</th>\n",
       "      <th>pixel775</th>\n",
       "      <th>pixel776</th>\n",
       "      <th>pixel777</th>\n",
       "      <th>pixel778</th>\n",
       "      <th>pixel779</th>\n",
       "      <th>pixel780</th>\n",
       "      <th>pixel781</th>\n",
       "      <th>pixel782</th>\n",
       "      <th>pixel783</th>\n",
       "    </tr>\n",
       "  </thead>\n",
       "  <tbody>\n",
       "    <tr>\n",
       "      <th>count</th>\n",
       "      <td>42000.0</td>\n",
       "      <td>42000.0</td>\n",
       "      <td>42000.0</td>\n",
       "      <td>42000.0</td>\n",
       "      <td>42000.0</td>\n",
       "      <td>42000.0</td>\n",
       "      <td>42000.0</td>\n",
       "      <td>42000.0</td>\n",
       "      <td>42000.0</td>\n",
       "      <td>42000.0</td>\n",
       "      <td>...</td>\n",
       "      <td>42000.000000</td>\n",
       "      <td>42000.000000</td>\n",
       "      <td>42000.000000</td>\n",
       "      <td>42000.00000</td>\n",
       "      <td>42000.000000</td>\n",
       "      <td>42000.000000</td>\n",
       "      <td>42000.0</td>\n",
       "      <td>42000.0</td>\n",
       "      <td>42000.0</td>\n",
       "      <td>42000.0</td>\n",
       "    </tr>\n",
       "    <tr>\n",
       "      <th>mean</th>\n",
       "      <td>0.0</td>\n",
       "      <td>0.0</td>\n",
       "      <td>0.0</td>\n",
       "      <td>0.0</td>\n",
       "      <td>0.0</td>\n",
       "      <td>0.0</td>\n",
       "      <td>0.0</td>\n",
       "      <td>0.0</td>\n",
       "      <td>0.0</td>\n",
       "      <td>0.0</td>\n",
       "      <td>...</td>\n",
       "      <td>0.219286</td>\n",
       "      <td>0.117095</td>\n",
       "      <td>0.059024</td>\n",
       "      <td>0.02019</td>\n",
       "      <td>0.017238</td>\n",
       "      <td>0.002857</td>\n",
       "      <td>0.0</td>\n",
       "      <td>0.0</td>\n",
       "      <td>0.0</td>\n",
       "      <td>0.0</td>\n",
       "    </tr>\n",
       "    <tr>\n",
       "      <th>std</th>\n",
       "      <td>0.0</td>\n",
       "      <td>0.0</td>\n",
       "      <td>0.0</td>\n",
       "      <td>0.0</td>\n",
       "      <td>0.0</td>\n",
       "      <td>0.0</td>\n",
       "      <td>0.0</td>\n",
       "      <td>0.0</td>\n",
       "      <td>0.0</td>\n",
       "      <td>0.0</td>\n",
       "      <td>...</td>\n",
       "      <td>6.312890</td>\n",
       "      <td>4.633819</td>\n",
       "      <td>3.274488</td>\n",
       "      <td>1.75987</td>\n",
       "      <td>1.894498</td>\n",
       "      <td>0.414264</td>\n",
       "      <td>0.0</td>\n",
       "      <td>0.0</td>\n",
       "      <td>0.0</td>\n",
       "      <td>0.0</td>\n",
       "    </tr>\n",
       "    <tr>\n",
       "      <th>min</th>\n",
       "      <td>0.0</td>\n",
       "      <td>0.0</td>\n",
       "      <td>0.0</td>\n",
       "      <td>0.0</td>\n",
       "      <td>0.0</td>\n",
       "      <td>0.0</td>\n",
       "      <td>0.0</td>\n",
       "      <td>0.0</td>\n",
       "      <td>0.0</td>\n",
       "      <td>0.0</td>\n",
       "      <td>...</td>\n",
       "      <td>0.000000</td>\n",
       "      <td>0.000000</td>\n",
       "      <td>0.000000</td>\n",
       "      <td>0.00000</td>\n",
       "      <td>0.000000</td>\n",
       "      <td>0.000000</td>\n",
       "      <td>0.0</td>\n",
       "      <td>0.0</td>\n",
       "      <td>0.0</td>\n",
       "      <td>0.0</td>\n",
       "    </tr>\n",
       "    <tr>\n",
       "      <th>25%</th>\n",
       "      <td>0.0</td>\n",
       "      <td>0.0</td>\n",
       "      <td>0.0</td>\n",
       "      <td>0.0</td>\n",
       "      <td>0.0</td>\n",
       "      <td>0.0</td>\n",
       "      <td>0.0</td>\n",
       "      <td>0.0</td>\n",
       "      <td>0.0</td>\n",
       "      <td>0.0</td>\n",
       "      <td>...</td>\n",
       "      <td>0.000000</td>\n",
       "      <td>0.000000</td>\n",
       "      <td>0.000000</td>\n",
       "      <td>0.00000</td>\n",
       "      <td>0.000000</td>\n",
       "      <td>0.000000</td>\n",
       "      <td>0.0</td>\n",
       "      <td>0.0</td>\n",
       "      <td>0.0</td>\n",
       "      <td>0.0</td>\n",
       "    </tr>\n",
       "    <tr>\n",
       "      <th>50%</th>\n",
       "      <td>0.0</td>\n",
       "      <td>0.0</td>\n",
       "      <td>0.0</td>\n",
       "      <td>0.0</td>\n",
       "      <td>0.0</td>\n",
       "      <td>0.0</td>\n",
       "      <td>0.0</td>\n",
       "      <td>0.0</td>\n",
       "      <td>0.0</td>\n",
       "      <td>0.0</td>\n",
       "      <td>...</td>\n",
       "      <td>0.000000</td>\n",
       "      <td>0.000000</td>\n",
       "      <td>0.000000</td>\n",
       "      <td>0.00000</td>\n",
       "      <td>0.000000</td>\n",
       "      <td>0.000000</td>\n",
       "      <td>0.0</td>\n",
       "      <td>0.0</td>\n",
       "      <td>0.0</td>\n",
       "      <td>0.0</td>\n",
       "    </tr>\n",
       "    <tr>\n",
       "      <th>75%</th>\n",
       "      <td>0.0</td>\n",
       "      <td>0.0</td>\n",
       "      <td>0.0</td>\n",
       "      <td>0.0</td>\n",
       "      <td>0.0</td>\n",
       "      <td>0.0</td>\n",
       "      <td>0.0</td>\n",
       "      <td>0.0</td>\n",
       "      <td>0.0</td>\n",
       "      <td>0.0</td>\n",
       "      <td>...</td>\n",
       "      <td>0.000000</td>\n",
       "      <td>0.000000</td>\n",
       "      <td>0.000000</td>\n",
       "      <td>0.00000</td>\n",
       "      <td>0.000000</td>\n",
       "      <td>0.000000</td>\n",
       "      <td>0.0</td>\n",
       "      <td>0.0</td>\n",
       "      <td>0.0</td>\n",
       "      <td>0.0</td>\n",
       "    </tr>\n",
       "    <tr>\n",
       "      <th>max</th>\n",
       "      <td>0.0</td>\n",
       "      <td>0.0</td>\n",
       "      <td>0.0</td>\n",
       "      <td>0.0</td>\n",
       "      <td>0.0</td>\n",
       "      <td>0.0</td>\n",
       "      <td>0.0</td>\n",
       "      <td>0.0</td>\n",
       "      <td>0.0</td>\n",
       "      <td>0.0</td>\n",
       "      <td>...</td>\n",
       "      <td>254.000000</td>\n",
       "      <td>254.000000</td>\n",
       "      <td>253.000000</td>\n",
       "      <td>253.00000</td>\n",
       "      <td>254.000000</td>\n",
       "      <td>62.000000</td>\n",
       "      <td>0.0</td>\n",
       "      <td>0.0</td>\n",
       "      <td>0.0</td>\n",
       "      <td>0.0</td>\n",
       "    </tr>\n",
       "  </tbody>\n",
       "</table>\n",
       "<p>8 rows × 784 columns</p>\n",
       "</div>"
      ],
      "text/plain": [
       "        pixel0   pixel1   pixel2   pixel3   pixel4   pixel5   pixel6   pixel7  \\\n",
       "count  42000.0  42000.0  42000.0  42000.0  42000.0  42000.0  42000.0  42000.0   \n",
       "mean       0.0      0.0      0.0      0.0      0.0      0.0      0.0      0.0   \n",
       "std        0.0      0.0      0.0      0.0      0.0      0.0      0.0      0.0   \n",
       "min        0.0      0.0      0.0      0.0      0.0      0.0      0.0      0.0   \n",
       "25%        0.0      0.0      0.0      0.0      0.0      0.0      0.0      0.0   \n",
       "50%        0.0      0.0      0.0      0.0      0.0      0.0      0.0      0.0   \n",
       "75%        0.0      0.0      0.0      0.0      0.0      0.0      0.0      0.0   \n",
       "max        0.0      0.0      0.0      0.0      0.0      0.0      0.0      0.0   \n",
       "\n",
       "        pixel8   pixel9    ...         pixel774      pixel775      pixel776  \\\n",
       "count  42000.0  42000.0    ...     42000.000000  42000.000000  42000.000000   \n",
       "mean       0.0      0.0    ...         0.219286      0.117095      0.059024   \n",
       "std        0.0      0.0    ...         6.312890      4.633819      3.274488   \n",
       "min        0.0      0.0    ...         0.000000      0.000000      0.000000   \n",
       "25%        0.0      0.0    ...         0.000000      0.000000      0.000000   \n",
       "50%        0.0      0.0    ...         0.000000      0.000000      0.000000   \n",
       "75%        0.0      0.0    ...         0.000000      0.000000      0.000000   \n",
       "max        0.0      0.0    ...       254.000000    254.000000    253.000000   \n",
       "\n",
       "          pixel777      pixel778      pixel779  pixel780  pixel781  pixel782  \\\n",
       "count  42000.00000  42000.000000  42000.000000   42000.0   42000.0   42000.0   \n",
       "mean       0.02019      0.017238      0.002857       0.0       0.0       0.0   \n",
       "std        1.75987      1.894498      0.414264       0.0       0.0       0.0   \n",
       "min        0.00000      0.000000      0.000000       0.0       0.0       0.0   \n",
       "25%        0.00000      0.000000      0.000000       0.0       0.0       0.0   \n",
       "50%        0.00000      0.000000      0.000000       0.0       0.0       0.0   \n",
       "75%        0.00000      0.000000      0.000000       0.0       0.0       0.0   \n",
       "max      253.00000    254.000000     62.000000       0.0       0.0       0.0   \n",
       "\n",
       "       pixel783  \n",
       "count   42000.0  \n",
       "mean        0.0  \n",
       "std         0.0  \n",
       "min         0.0  \n",
       "25%         0.0  \n",
       "50%         0.0  \n",
       "75%         0.0  \n",
       "max         0.0  \n",
       "\n",
       "[8 rows x 784 columns]"
      ]
     },
     "execution_count": 52,
     "metadata": {},
     "output_type": "execute_result"
    }
   ],
   "source": [
    "X_train.describe()"
   ]
  },
  {
   "cell_type": "code",
   "execution_count": 56,
   "metadata": {},
   "outputs": [
    {
     "name": "stderr",
     "output_type": "stream",
     "text": [
      "C:\\Users\\A4 Dell\\Anaconda3\\lib\\site-packages\\sklearn\\preprocessing\\data.py:323: DataConversionWarning: Data with input dtype int64 were all converted to float64 by MinMaxScaler.\n",
      "  return self.partial_fit(X, y)\n"
     ]
    }
   ],
   "source": [
    "X_train = MinMaxScaler().fit_transform(X_train)   #standardize the data\n",
    "\n",
    "y_train_onehot = to_categorical(y_train, num_classes=10)  #encode labels to one hot vectors"
   ]
  },
  {
   "cell_type": "code",
   "execution_count": 57,
   "metadata": {},
   "outputs": [
    {
     "data": {
      "text/plain": [
       "array([[0., 1., 0., ..., 0., 0., 0.],\n",
       "       [1., 0., 0., ..., 0., 0., 0.],\n",
       "       [0., 1., 0., ..., 0., 0., 0.],\n",
       "       ...,\n",
       "       [0., 0., 0., ..., 1., 0., 0.],\n",
       "       [0., 0., 0., ..., 0., 0., 0.],\n",
       "       [0., 0., 0., ..., 0., 0., 1.]], dtype=float32)"
      ]
     },
     "execution_count": 57,
     "metadata": {},
     "output_type": "execute_result"
    }
   ],
   "source": [
    "y_train_onehot"
   ]
  },
  {
   "cell_type": "code",
   "execution_count": 58,
   "metadata": {},
   "outputs": [
    {
     "data": {
      "text/html": [
       "<div>\n",
       "<style scoped>\n",
       "    .dataframe tbody tr th:only-of-type {\n",
       "        vertical-align: middle;\n",
       "    }\n",
       "\n",
       "    .dataframe tbody tr th {\n",
       "        vertical-align: top;\n",
       "    }\n",
       "\n",
       "    .dataframe thead th {\n",
       "        text-align: right;\n",
       "    }\n",
       "</style>\n",
       "<table border=\"1\" class=\"dataframe\">\n",
       "  <thead>\n",
       "    <tr style=\"text-align: right;\">\n",
       "      <th></th>\n",
       "      <th>pixel0</th>\n",
       "      <th>pixel1</th>\n",
       "      <th>pixel2</th>\n",
       "      <th>pixel3</th>\n",
       "      <th>pixel4</th>\n",
       "      <th>pixel5</th>\n",
       "      <th>pixel6</th>\n",
       "      <th>pixel7</th>\n",
       "      <th>pixel8</th>\n",
       "      <th>pixel9</th>\n",
       "      <th>...</th>\n",
       "      <th>pixel774</th>\n",
       "      <th>pixel775</th>\n",
       "      <th>pixel776</th>\n",
       "      <th>pixel777</th>\n",
       "      <th>pixel778</th>\n",
       "      <th>pixel779</th>\n",
       "      <th>pixel780</th>\n",
       "      <th>pixel781</th>\n",
       "      <th>pixel782</th>\n",
       "      <th>pixel783</th>\n",
       "    </tr>\n",
       "  </thead>\n",
       "  <tbody>\n",
       "    <tr>\n",
       "      <th>0</th>\n",
       "      <td>0</td>\n",
       "      <td>0</td>\n",
       "      <td>0</td>\n",
       "      <td>0</td>\n",
       "      <td>0</td>\n",
       "      <td>0</td>\n",
       "      <td>0</td>\n",
       "      <td>0</td>\n",
       "      <td>0</td>\n",
       "      <td>0</td>\n",
       "      <td>...</td>\n",
       "      <td>0</td>\n",
       "      <td>0</td>\n",
       "      <td>0</td>\n",
       "      <td>0</td>\n",
       "      <td>0</td>\n",
       "      <td>0</td>\n",
       "      <td>0</td>\n",
       "      <td>0</td>\n",
       "      <td>0</td>\n",
       "      <td>0</td>\n",
       "    </tr>\n",
       "    <tr>\n",
       "      <th>1</th>\n",
       "      <td>0</td>\n",
       "      <td>0</td>\n",
       "      <td>0</td>\n",
       "      <td>0</td>\n",
       "      <td>0</td>\n",
       "      <td>0</td>\n",
       "      <td>0</td>\n",
       "      <td>0</td>\n",
       "      <td>0</td>\n",
       "      <td>0</td>\n",
       "      <td>...</td>\n",
       "      <td>0</td>\n",
       "      <td>0</td>\n",
       "      <td>0</td>\n",
       "      <td>0</td>\n",
       "      <td>0</td>\n",
       "      <td>0</td>\n",
       "      <td>0</td>\n",
       "      <td>0</td>\n",
       "      <td>0</td>\n",
       "      <td>0</td>\n",
       "    </tr>\n",
       "    <tr>\n",
       "      <th>2</th>\n",
       "      <td>0</td>\n",
       "      <td>0</td>\n",
       "      <td>0</td>\n",
       "      <td>0</td>\n",
       "      <td>0</td>\n",
       "      <td>0</td>\n",
       "      <td>0</td>\n",
       "      <td>0</td>\n",
       "      <td>0</td>\n",
       "      <td>0</td>\n",
       "      <td>...</td>\n",
       "      <td>0</td>\n",
       "      <td>0</td>\n",
       "      <td>0</td>\n",
       "      <td>0</td>\n",
       "      <td>0</td>\n",
       "      <td>0</td>\n",
       "      <td>0</td>\n",
       "      <td>0</td>\n",
       "      <td>0</td>\n",
       "      <td>0</td>\n",
       "    </tr>\n",
       "    <tr>\n",
       "      <th>3</th>\n",
       "      <td>0</td>\n",
       "      <td>0</td>\n",
       "      <td>0</td>\n",
       "      <td>0</td>\n",
       "      <td>0</td>\n",
       "      <td>0</td>\n",
       "      <td>0</td>\n",
       "      <td>0</td>\n",
       "      <td>0</td>\n",
       "      <td>0</td>\n",
       "      <td>...</td>\n",
       "      <td>0</td>\n",
       "      <td>0</td>\n",
       "      <td>0</td>\n",
       "      <td>0</td>\n",
       "      <td>0</td>\n",
       "      <td>0</td>\n",
       "      <td>0</td>\n",
       "      <td>0</td>\n",
       "      <td>0</td>\n",
       "      <td>0</td>\n",
       "    </tr>\n",
       "    <tr>\n",
       "      <th>4</th>\n",
       "      <td>0</td>\n",
       "      <td>0</td>\n",
       "      <td>0</td>\n",
       "      <td>0</td>\n",
       "      <td>0</td>\n",
       "      <td>0</td>\n",
       "      <td>0</td>\n",
       "      <td>0</td>\n",
       "      <td>0</td>\n",
       "      <td>0</td>\n",
       "      <td>...</td>\n",
       "      <td>0</td>\n",
       "      <td>0</td>\n",
       "      <td>0</td>\n",
       "      <td>0</td>\n",
       "      <td>0</td>\n",
       "      <td>0</td>\n",
       "      <td>0</td>\n",
       "      <td>0</td>\n",
       "      <td>0</td>\n",
       "      <td>0</td>\n",
       "    </tr>\n",
       "  </tbody>\n",
       "</table>\n",
       "<p>5 rows × 784 columns</p>\n",
       "</div>"
      ],
      "text/plain": [
       "   pixel0  pixel1  pixel2  pixel3  pixel4  pixel5  pixel6  pixel7  pixel8  \\\n",
       "0       0       0       0       0       0       0       0       0       0   \n",
       "1       0       0       0       0       0       0       0       0       0   \n",
       "2       0       0       0       0       0       0       0       0       0   \n",
       "3       0       0       0       0       0       0       0       0       0   \n",
       "4       0       0       0       0       0       0       0       0       0   \n",
       "\n",
       "   pixel9    ...     pixel774  pixel775  pixel776  pixel777  pixel778  \\\n",
       "0       0    ...            0         0         0         0         0   \n",
       "1       0    ...            0         0         0         0         0   \n",
       "2       0    ...            0         0         0         0         0   \n",
       "3       0    ...            0         0         0         0         0   \n",
       "4       0    ...            0         0         0         0         0   \n",
       "\n",
       "   pixel779  pixel780  pixel781  pixel782  pixel783  \n",
       "0         0         0         0         0         0  \n",
       "1         0         0         0         0         0  \n",
       "2         0         0         0         0         0  \n",
       "3         0         0         0         0         0  \n",
       "4         0         0         0         0         0  \n",
       "\n",
       "[5 rows x 784 columns]"
      ]
     },
     "execution_count": 58,
     "metadata": {},
     "output_type": "execute_result"
    }
   ],
   "source": [
    "test.head()"
   ]
  },
  {
   "cell_type": "code",
   "execution_count": 59,
   "metadata": {},
   "outputs": [
    {
     "name": "stderr",
     "output_type": "stream",
     "text": [
      "C:\\Users\\A4 Dell\\Anaconda3\\lib\\site-packages\\sklearn\\preprocessing\\data.py:323: DataConversionWarning: Data with input dtype int64 were all converted to float64 by MinMaxScaler.\n",
      "  return self.partial_fit(X, y)\n"
     ]
    }
   ],
   "source": [
    "test = MinMaxScaler().fit_transform(test)   #standardize the test data"
   ]
  },
  {
   "cell_type": "markdown",
   "metadata": {},
   "source": [
    "# Split the raw training data into train and validation sets"
   ]
  },
  {
   "cell_type": "code",
   "execution_count": 61,
   "metadata": {},
   "outputs": [],
   "source": [
    "# Set the random seed\n",
    "random_seed = 2\n",
    "\n",
    "# Split the train and the validation set for the fitting\n",
    "X_train, X_val, y_train_onehot, y_val_onehot = train_test_split(X_train, y_train_onehot, test_size = 0.1, random_state=random_seed)"
   ]
  },
  {
   "cell_type": "markdown",
   "metadata": {},
   "source": [
    "# 1-Layer Neural Network using Keras"
   ]
  },
  {
   "cell_type": "code",
   "execution_count": 64,
   "metadata": {
    "scrolled": true
   },
   "outputs": [
    {
     "name": "stdout",
     "output_type": "stream",
     "text": [
      "Train on 37800 samples, validate on 4200 samples\n",
      "Epoch 1/10\n",
      " - 3s - loss: 0.5393 - acc: 0.8616 - val_loss: 0.3400 - val_acc: 0.9052\n",
      "Epoch 2/10\n",
      " - 2s - loss: 0.3202 - acc: 0.9111 - val_loss: 0.3001 - val_acc: 0.9155\n",
      "Epoch 3/10\n",
      " - 2s - loss: 0.2913 - acc: 0.9190 - val_loss: 0.2860 - val_acc: 0.9169\n",
      "Epoch 4/10\n",
      " - 2s - loss: 0.2765 - acc: 0.9223 - val_loss: 0.2815 - val_acc: 0.9181\n",
      "Epoch 5/10\n",
      " - 2s - loss: 0.2671 - acc: 0.9260 - val_loss: 0.2763 - val_acc: 0.9195\n",
      "Epoch 6/10\n",
      " - 2s - loss: 0.2602 - acc: 0.9276 - val_loss: 0.2726 - val_acc: 0.9193\n",
      "Epoch 7/10\n",
      " - 2s - loss: 0.2555 - acc: 0.9278 - val_loss: 0.2759 - val_acc: 0.9186\n",
      "Epoch 8/10\n",
      " - 2s - loss: 0.2506 - acc: 0.9293 - val_loss: 0.2721 - val_acc: 0.9190\n",
      "Epoch 9/10\n",
      " - 3s - loss: 0.2476 - acc: 0.9301 - val_loss: 0.2732 - val_acc: 0.9212\n",
      "Epoch 10/10\n",
      " - 2s - loss: 0.2438 - acc: 0.9316 - val_loss: 0.2710 - val_acc: 0.9200\n",
      "\n",
      "time taken 25.153005599975586 seconds\n",
      "37800/37800 [==============================] - 1s 23us/step\n",
      "\n",
      "acc: 93.43%\n",
      "4200/4200 [==============================] - 0s 23us/step\n",
      "\n",
      "acc: 92.00%\n"
     ]
    }
   ],
   "source": [
    "start = time()\n",
    "\n",
    "model = Sequential()\n",
    "model.add(Dense(10,  activation='softmax'))\n",
    "\n",
    "#compile model using accuracy to measure model performance\n",
    "model.compile(optimizer='adam', loss='categorical_crossentropy', metrics=['accuracy'])\n",
    "\n",
    "#train the model\n",
    "history = model.fit(X_train, y_train_onehot, epochs=10, validation_data = (X_val, y_val_onehot), verbose = 2)\n",
    "\n",
    "print ('\\ntime taken %s seconds' % str(time() - start))\n",
    "\n",
    "scores = model.evaluate(X_train, y_train_onehot)\n",
    "print(\"\\n%s: %.2f%%\" % (model.metrics_names[1], scores[1]*100), \"for traininig set\")\n",
    "\n",
    "scores_val = model.evaluate(X_val, y_val_onehot)\n",
    "print(\"\\n%s: %.2f%%\" % (model.metrics_names[1], scores_val[1]*100), \"for validation set\")\n"
   ]
  },
  {
   "cell_type": "code",
   "execution_count": 76,
   "metadata": {},
   "outputs": [
    {
     "data": {
      "image/png": "[encoded data removed]",
      "text/plain": [
       "<Figure size 432x288 with 1 Axes>"
      ]
     },
     "metadata": {
      "needs_background": "light"
     },
     "output_type": "display_data"
    }
   ],
   "source": [
    "# Plot the accuracy curves for training and validation \n",
    "plt.plot(history.history['acc'], color='b', label=\"Training accuracy\")\n",
    "plt.plot(history.history['val_acc'], color='r',label=\"Validation accuracy\")\n",
    "legend = plt.legend(loc='best', shadow=True)"
   ]
  },
  {
   "cell_type": "code",
   "execution_count": 77,
   "metadata": {},
   "outputs": [],
   "source": [
    "#get the preditions on test data, then create Kaggle submission file 1\n",
    "predictions = model.predict(test)\n",
    "\n",
    "# select the index with the maximum probability\n",
    "predictions = np.argmax(predictions,axis = 1)\n",
    "\n",
    "pd.DataFrame({\"ImageId\":list(range(1,len(predictions)+1)),\n",
    "                 \"Label\":predictions}).to_csv(\"cnn_kaggle_submission1.csv\", index=False, header=True)\n",
    "\n",
    "# Kaggle Score: 0.92228"
   ]
  },
  {
   "cell_type": "markdown",
   "metadata": {},
   "source": [
    "# 2-Layer with 10 Nodes Neural Network"
   ]
  },
  {
   "cell_type": "code",
   "execution_count": 78,
   "metadata": {},
   "outputs": [
    {
     "name": "stderr",
     "output_type": "stream",
     "text": [
      "C:\\Users\\A4 Dell\\Anaconda3\\lib\\site-packages\\ipykernel_launcher.py:4: UserWarning: Update your `Dense` call to the Keras 2 API: `Dense(input_dim=784, activation=\"relu\", units=10)`\n",
      "  after removing the cwd from sys.path.\n",
      "C:\\Users\\A4 Dell\\Anaconda3\\lib\\site-packages\\ipykernel_launcher.py:5: UserWarning: Update your `Dense` call to the Keras 2 API: `Dense(activation=\"softmax\", units=10)`\n",
      "  \"\"\"\n"
     ]
    },
    {
     "name": "stdout",
     "output_type": "stream",
     "text": [
      "Train on 37800 samples, validate on 4200 samples\n",
      "Epoch 1/10\n",
      " - 3s - loss: 0.6060 - acc: 0.8270 - val_loss: 0.3494 - val_acc: 0.8964\n",
      "Epoch 2/10\n",
      " - 3s - loss: 0.3137 - acc: 0.9112 - val_loss: 0.2981 - val_acc: 0.9160\n",
      "Epoch 3/10\n",
      " - 3s - loss: 0.2810 - acc: 0.9212 - val_loss: 0.2957 - val_acc: 0.9164\n",
      "Epoch 4/10\n",
      " - 3s - loss: 0.2655 - acc: 0.9245 - val_loss: 0.2760 - val_acc: 0.9245\n",
      "Epoch 5/10\n",
      " - 3s - loss: 0.2546 - acc: 0.9279 - val_loss: 0.2778 - val_acc: 0.9260\n",
      "Epoch 6/10\n",
      " - 3s - loss: 0.2468 - acc: 0.9305 - val_loss: 0.2772 - val_acc: 0.9229\n",
      "Epoch 7/10\n",
      " - 3s - loss: 0.2385 - acc: 0.9315 - val_loss: 0.2664 - val_acc: 0.9276\n",
      "Epoch 8/10\n",
      " - 3s - loss: 0.2324 - acc: 0.9342 - val_loss: 0.2671 - val_acc: 0.9255\n",
      "Epoch 9/10\n",
      " - 3s - loss: 0.2263 - acc: 0.9358 - val_loss: 0.2724 - val_acc: 0.9226\n",
      "Epoch 10/10\n",
      " - 3s - loss: 0.2218 - acc: 0.9371 - val_loss: 0.2611 - val_acc: 0.9276\n",
      "\n",
      "time taken 26.903274536132812 seconds\n",
      "37800/37800 [==============================] - 1s 26us/step\n",
      "\n",
      "acc: 94.24% for traininig set\n",
      "4200/4200 [==============================] - 0s 27us/step\n",
      "\n",
      "acc: 92.76% for validation set\n"
     ]
    }
   ],
   "source": [
    "start = time()\n",
    "\n",
    "model = Sequential()\n",
    "model.add(Dense(input_dim=784, output_dim=10, activation='relu'))\n",
    "model.add(Dense(output_dim=10,  activation='softmax'))\n",
    "\n",
    "#compile model using accuracy to measure model performance\n",
    "model.compile(optimizer='adam', loss='categorical_crossentropy', metrics=['accuracy'])\n",
    "\n",
    "#train the model\n",
    "history = model.fit(X_train, y_train_onehot, epochs=10, validation_data = (X_val, y_val_onehot), verbose = 2)\n",
    "\n",
    "print ('\\ntime taken %s seconds' % str(time() - start))\n",
    "\n",
    "scores = model.evaluate(X_train, y_train_onehot)\n",
    "print(\"\\n%s: %.2f%%\" % (model.metrics_names[1], scores[1]*100), \"for traininig set\")\n",
    "\n",
    "scores_val = model.evaluate(X_val, y_val_onehot)\n",
    "print(\"\\n%s: %.2f%%\" % (model.metrics_names[1], scores_val[1]*100), \"for validation set\")"
   ]
  },
  {
   "cell_type": "code",
   "execution_count": 79,
   "metadata": {},
   "outputs": [
    {
     "data": {
      "image/png": "[encoded data removed]",
      "text/plain": [
       "<Figure size 432x288 with 1 Axes>"
      ]
     },
     "metadata": {
      "needs_background": "light"
     },
     "output_type": "display_data"
    }
   ],
   "source": [
    "# Plot the accuracy curves for training and validation \n",
    "plt.plot(history.history['acc'], color='b', label=\"Training accuracy\")\n",
    "plt.plot(history.history['val_acc'], color='r',label=\"Validation accuracy\")\n",
    "legend = plt.legend(loc='best', shadow=True)"
   ]
  },
  {
   "cell_type": "code",
   "execution_count": 80,
   "metadata": {},
   "outputs": [],
   "source": [
    "#get the preditions on test data, then create Kaggle submission file 1\n",
    "predictions = model.predict(test)\n",
    "\n",
    "# select the indix with the maximum probability\n",
    "predictions = np.argmax(predictions,axis = 1)\n",
    "\n",
    "pd.DataFrame({\"ImageId\":list(range(1,len(predictions)+1)),\n",
    "                 \"Label\":predictions}).to_csv(\"cnn_kaggle_submission2_10nodes.csv\", index=False, header=True)\n",
    "\n",
    "# Kaggle Score: 0.92385"
   ]
  },
  {
   "cell_type": "markdown",
   "metadata": {},
   "source": [
    "# 2-Layer & 20 Nodes Neural Network"
   ]
  },
  {
   "cell_type": "code",
   "execution_count": 81,
   "metadata": {},
   "outputs": [
    {
     "name": "stderr",
     "output_type": "stream",
     "text": [
      "C:\\Users\\A4 Dell\\Anaconda3\\lib\\site-packages\\ipykernel_launcher.py:4: UserWarning: Update your `Dense` call to the Keras 2 API: `Dense(input_dim=784, activation=\"relu\", units=20)`\n",
      "  after removing the cwd from sys.path.\n",
      "C:\\Users\\A4 Dell\\Anaconda3\\lib\\site-packages\\ipykernel_launcher.py:5: UserWarning: Update your `Dense` call to the Keras 2 API: `Dense(activation=\"softmax\", units=10)`\n",
      "  \"\"\"\n"
     ]
    },
    {
     "name": "stdout",
     "output_type": "stream",
     "text": [
      "Train on 37800 samples, validate on 4200 samples\n",
      "Epoch 1/10\n",
      " - 3s - loss: 0.4650 - acc: 0.8708 - val_loss: 0.2823 - val_acc: 0.9186\n",
      "Epoch 2/10\n",
      " - 3s - loss: 0.2511 - acc: 0.9286 - val_loss: 0.2428 - val_acc: 0.9307\n",
      "Epoch 3/10\n",
      " - 3s - loss: 0.2079 - acc: 0.9401 - val_loss: 0.2083 - val_acc: 0.9381\n",
      "Epoch 4/10\n",
      " - 3s - loss: 0.1790 - acc: 0.9488 - val_loss: 0.2008 - val_acc: 0.9431\n",
      "Epoch 5/10\n",
      " - 3s - loss: 0.1589 - acc: 0.9540 - val_loss: 0.1781 - val_acc: 0.9486\n",
      "Epoch 6/10\n",
      " - 3s - loss: 0.1444 - acc: 0.9572 - val_loss: 0.1827 - val_acc: 0.9483\n",
      "Epoch 7/10\n",
      " - 3s - loss: 0.1340 - acc: 0.9603 - val_loss: 0.1704 - val_acc: 0.9529\n",
      "Epoch 8/10\n",
      " - 3s - loss: 0.1239 - acc: 0.9634 - val_loss: 0.1617 - val_acc: 0.9548\n",
      "Epoch 9/10\n",
      " - 3s - loss: 0.1166 - acc: 0.9652 - val_loss: 0.1751 - val_acc: 0.9488\n",
      "Epoch 10/10\n",
      " - 3s - loss: 0.1097 - acc: 0.9679 - val_loss: 0.1670 - val_acc: 0.9519\n",
      "\n",
      "time taken 27.97347092628479 seconds\n",
      "37800/37800 [==============================] - 1s 28us/step\n",
      "\n",
      "acc: 97.21% for traininig set\n",
      "4200/4200 [==============================] - 0s 28us/step\n",
      "\n",
      "acc: 95.19% for validation set\n"
     ]
    }
   ],
   "source": [
    "start = time()\n",
    "\n",
    "model = Sequential()\n",
    "model.add(Dense(input_dim=784, output_dim=20, activation='relu'))\n",
    "model.add(Dense(output_dim=10,  activation='softmax'))\n",
    "\n",
    "#compile model using accuracy to measure model performance\n",
    "model.compile(optimizer='adam', loss='categorical_crossentropy', metrics=['accuracy'])\n",
    "\n",
    "#train the model\n",
    "history = model.fit(X_train, y_train_onehot, epochs=10, validation_data = (X_val, y_val_onehot), verbose = 2)\n",
    "\n",
    "print ('\\ntime taken %s seconds' % str(time() - start))\n",
    "\n",
    "scores = model.evaluate(X_train, y_train_onehot)\n",
    "print(\"\\n%s: %.2f%%\" % (model.metrics_names[1], scores[1]*100), \"for traininig set\")\n",
    "\n",
    "scores_val = model.evaluate(X_val, y_val_onehot)\n",
    "print(\"\\n%s: %.2f%%\" % (model.metrics_names[1], scores_val[1]*100), \"for validation set\")"
   ]
  },
  {
   "cell_type": "code",
   "execution_count": 82,
   "metadata": {},
   "outputs": [
    {
     "data": {
      "image/png": "[encoded data removed]",
      "text/plain": [
       "<Figure size 432x288 with 1 Axes>"
      ]
     },
     "metadata": {
      "needs_background": "light"
     },
     "output_type": "display_data"
    }
   ],
   "source": [
    "# Plot the accuracy curves for training and validation \n",
    "plt.plot(history.history['acc'], color='b', label=\"Training accuracy\")\n",
    "plt.plot(history.history['val_acc'], color='r',label=\"Validation accuracy\")\n",
    "legend = plt.legend(loc='best', shadow=True)"
   ]
  },
  {
   "cell_type": "code",
   "execution_count": 83,
   "metadata": {},
   "outputs": [],
   "source": [
    "#get the preditions on test data, then create Kaggle submission file 1\n",
    "predictions = model.predict(test)\n",
    "\n",
    "# select the indix with the maximum probability\n",
    "predictions = np.argmax(predictions,axis = 1)\n",
    "\n",
    "pd.DataFrame({\"ImageId\":list(range(1,len(predictions)+1)),\n",
    "                 \"Label\":predictions}).to_csv(\"cnn_kaggle_submission2_20nodes.csv\", index=False, header=True)\n",
    "\n",
    "# Kaggle Score: 0.95257"
   ]
  },
  {
   "cell_type": "markdown",
   "metadata": {},
   "source": [
    "# 5-Layer with 10 nodes Neural Network"
   ]
  },
  {
   "cell_type": "code",
   "execution_count": 84,
   "metadata": {},
   "outputs": [
    {
     "name": "stderr",
     "output_type": "stream",
     "text": [
      "C:\\Users\\A4 Dell\\Anaconda3\\lib\\site-packages\\ipykernel_launcher.py:4: UserWarning: Update your `Dense` call to the Keras 2 API: `Dense(input_dim=784, activation=\"relu\", units=10)`\n",
      "  after removing the cwd from sys.path.\n",
      "C:\\Users\\A4 Dell\\Anaconda3\\lib\\site-packages\\ipykernel_launcher.py:5: UserWarning: Update your `Dense` call to the Keras 2 API: `Dense(activation=\"relu\", units=10)`\n",
      "  \"\"\"\n",
      "C:\\Users\\A4 Dell\\Anaconda3\\lib\\site-packages\\ipykernel_launcher.py:6: UserWarning: Update your `Dense` call to the Keras 2 API: `Dense(activation=\"relu\", units=20)`\n",
      "  \n",
      "C:\\Users\\A4 Dell\\Anaconda3\\lib\\site-packages\\ipykernel_launcher.py:8: UserWarning: Update your `Dense` call to the Keras 2 API: `Dense(activation=\"relu\", units=10)`\n",
      "  \n",
      "C:\\Users\\A4 Dell\\Anaconda3\\lib\\site-packages\\ipykernel_launcher.py:9: UserWarning: Update your `Dense` call to the Keras 2 API: `Dense(activation=\"softmax\", units=10)`\n",
      "  if __name__ == '__main__':\n"
     ]
    },
    {
     "name": "stdout",
     "output_type": "stream",
     "text": [
      "Train on 37800 samples, validate on 4200 samples\n",
      "Epoch 1/10\n",
      " - 4s - loss: 0.8821 - acc: 0.7034 - val_loss: 0.4076 - val_acc: 0.8864\n",
      "Epoch 2/10\n",
      " - 3s - loss: 0.3714 - acc: 0.8944 - val_loss: 0.3479 - val_acc: 0.9040\n",
      "Epoch 3/10\n",
      " - 3s - loss: 0.3187 - acc: 0.9087 - val_loss: 0.3087 - val_acc: 0.9093\n",
      "Epoch 4/10\n",
      " - 3s - loss: 0.2904 - acc: 0.9157 - val_loss: 0.2859 - val_acc: 0.9169\n",
      "Epoch 5/10\n",
      " - 3s - loss: 0.2679 - acc: 0.9206 - val_loss: 0.2810 - val_acc: 0.9229\n",
      "Epoch 6/10\n",
      " - 3s - loss: 0.2481 - acc: 0.9252 - val_loss: 0.2733 - val_acc: 0.9262\n",
      "Epoch 7/10\n",
      " - 3s - loss: 0.2360 - acc: 0.9306 - val_loss: 0.2593 - val_acc: 0.9260\n",
      "Epoch 8/10\n",
      " - 3s - loss: 0.2224 - acc: 0.9339 - val_loss: 0.2779 - val_acc: 0.9193\n",
      "Epoch 9/10\n",
      " - 3s - loss: 0.2145 - acc: 0.9359 - val_loss: 0.2383 - val_acc: 0.9290\n",
      "Epoch 10/10\n",
      " - 3s - loss: 0.2069 - acc: 0.9390 - val_loss: 0.2422 - val_acc: 0.9314\n",
      "\n",
      "time taken 32.8346905708313 seconds\n",
      "37800/37800 [==============================] - 1s 31us/step\n",
      "\n",
      "acc: 94.38% for traininig set\n",
      "4200/4200 [==============================] - 0s 31us/step\n",
      "\n",
      "acc: 93.14% for validation set\n"
     ]
    }
   ],
   "source": [
    "start = time()\n",
    "\n",
    "model = Sequential()\n",
    "model.add(Dense(input_dim=784, output_dim=10, activation='relu'))\n",
    "model.add(Dense(output_dim=10, activation='relu'))\n",
    "model.add(Dense(output_dim=20, activation='relu'))\n",
    "#model.add(Dropout(0.25))\n",
    "model.add(Dense(output_dim=10, activation='relu'))\n",
    "model.add(Dense(output_dim=10,  activation='softmax'))\n",
    "\n",
    "#compile model using accuracy to measure model performance\n",
    "model.compile(optimizer='adam', loss='categorical_crossentropy', metrics=['accuracy'])\n",
    "\n",
    "#train the model\n",
    "history = model.fit(X_train, y_train_onehot, epochs=10, validation_data = (X_val, y_val_onehot), verbose = 2)\n",
    "\n",
    "print ('\\ntime taken %s seconds' % str(time() - start))\n",
    "\n",
    "scores = model.evaluate(X_train, y_train_onehot)\n",
    "print(\"\\n%s: %.2f%%\" % (model.metrics_names[1], scores[1]*100), \"for traininig set\")\n",
    "\n",
    "scores_val = model.evaluate(X_val, y_val_onehot)\n",
    "print(\"\\n%s: %.2f%%\" % (model.metrics_names[1], scores_val[1]*100), \"for validation set\")"
   ]
  },
  {
   "cell_type": "code",
   "execution_count": 85,
   "metadata": {},
   "outputs": [
    {
     "data": {
      "image/png": "[encoded data removed]",
      "text/plain": [
       "<Figure size 432x288 with 1 Axes>"
      ]
     },
     "metadata": {
      "needs_background": "light"
     },
     "output_type": "display_data"
    }
   ],
   "source": [
    "# Plot the accuracy curves for training and validation \n",
    "plt.plot(history.history['acc'], color='b', label=\"Training accuracy\")\n",
    "plt.plot(history.history['val_acc'], color='r',label=\"Validation accuracy\")\n",
    "legend = plt.legend(loc='best', shadow=True)"
   ]
  },
  {
   "cell_type": "code",
   "execution_count": 86,
   "metadata": {},
   "outputs": [],
   "source": [
    "#get the preditions on test data, then create Kaggle submission file 1\n",
    "predictions = model.predict(test)\n",
    "\n",
    "# select the index with the maximum probability\n",
    "predictions = np.argmax(predictions,axis = 1)\n",
    "\n",
    "pd.DataFrame({\"ImageId\":list(range(1,len(predictions)+1)),\n",
    "                 \"Label\":predictions}).to_csv(\"cnn_kaggle_submission3_10nodes.csv\", index=False, header=True)\n",
    "\n",
    "# Kaggle Score: 0.92842"
   ]
  },
  {
   "cell_type": "markdown",
   "metadata": {},
   "source": [
    "# 5-Layer with 20 nodes Neural Network"
   ]
  },
  {
   "cell_type": "code",
   "execution_count": 87,
   "metadata": {},
   "outputs": [
    {
     "name": "stderr",
     "output_type": "stream",
     "text": [
      "C:\\Users\\A4 Dell\\Anaconda3\\lib\\site-packages\\ipykernel_launcher.py:4: UserWarning: Update your `Dense` call to the Keras 2 API: `Dense(input_dim=784, activation=\"relu\", units=20)`\n",
      "  after removing the cwd from sys.path.\n",
      "C:\\Users\\A4 Dell\\Anaconda3\\lib\\site-packages\\ipykernel_launcher.py:5: UserWarning: Update your `Dense` call to the Keras 2 API: `Dense(activation=\"relu\", units=20)`\n",
      "  \"\"\"\n",
      "C:\\Users\\A4 Dell\\Anaconda3\\lib\\site-packages\\ipykernel_launcher.py:6: UserWarning: Update your `Dense` call to the Keras 2 API: `Dense(activation=\"relu\", units=20)`\n",
      "  \n",
      "C:\\Users\\A4 Dell\\Anaconda3\\lib\\site-packages\\ipykernel_launcher.py:8: UserWarning: Update your `Dense` call to the Keras 2 API: `Dense(activation=\"relu\", units=20)`\n",
      "  \n",
      "C:\\Users\\A4 Dell\\Anaconda3\\lib\\site-packages\\ipykernel_launcher.py:9: UserWarning: Update your `Dense` call to the Keras 2 API: `Dense(activation=\"softmax\", units=10)`\n",
      "  if __name__ == '__main__':\n"
     ]
    },
    {
     "name": "stdout",
     "output_type": "stream",
     "text": [
      "Train on 37800 samples, validate on 4200 samples\n",
      "Epoch 1/10\n",
      " - 5s - loss: 0.5066 - acc: 0.8455 - val_loss: 0.2955 - val_acc: 0.9167\n",
      "Epoch 2/10\n",
      " - 3s - loss: 0.2534 - acc: 0.9261 - val_loss: 0.2342 - val_acc: 0.9317\n",
      "Epoch 3/10\n",
      " - 3s - loss: 0.2042 - acc: 0.9385 - val_loss: 0.2289 - val_acc: 0.9348\n",
      "Epoch 4/10\n",
      " - 3s - loss: 0.1774 - acc: 0.9462 - val_loss: 0.2037 - val_acc: 0.9414\n",
      "Epoch 5/10\n",
      " - 3s - loss: 0.1559 - acc: 0.9529 - val_loss: 0.1842 - val_acc: 0.9476\n",
      "Epoch 6/10\n",
      " - 3s - loss: 0.1416 - acc: 0.9558 - val_loss: 0.1768 - val_acc: 0.9474\n",
      "Epoch 7/10\n",
      " - 3s - loss: 0.1304 - acc: 0.9592 - val_loss: 0.2077 - val_acc: 0.9386\n",
      "Epoch 8/10\n",
      " - 3s - loss: 0.1229 - acc: 0.9622 - val_loss: 0.1811 - val_acc: 0.9481\n",
      "Epoch 9/10\n",
      " - 3s - loss: 0.1151 - acc: 0.9650 - val_loss: 0.1901 - val_acc: 0.9460\n",
      "Epoch 10/10\n",
      " - 3s - loss: 0.1100 - acc: 0.9658 - val_loss: 0.1914 - val_acc: 0.9467\n",
      "\n",
      "time taken 35.35546350479126 seconds\n",
      "37800/37800 [==============================] - 1s 33us/step\n",
      "\n",
      "acc: 96.77% for traininig set\n",
      "4200/4200 [==============================] - 0s 33us/step\n",
      "\n",
      "acc: 94.67% for validation set\n"
     ]
    }
   ],
   "source": [
    "start = time()\n",
    "\n",
    "model = Sequential()\n",
    "model.add(Dense(input_dim=784, output_dim=20, activation='relu'))\n",
    "model.add(Dense(output_dim=20, activation='relu'))\n",
    "model.add(Dense(output_dim=20, activation='relu'))\n",
    "#model.add(Dropout(0.25))\n",
    "model.add(Dense(output_dim=20, activation='relu'))\n",
    "model.add(Dense(output_dim=10,  activation='softmax'))\n",
    "\n",
    "#compile model using accuracy to measure model performance\n",
    "model.compile(optimizer='adam', loss='categorical_crossentropy', metrics=['accuracy'])\n",
    "\n",
    "#train the model\n",
    "history = model.fit(X_train, y_train_onehot, epochs=10, validation_data = (X_val, y_val_onehot), verbose = 2)\n",
    "\n",
    "print ('\\ntime taken %s seconds' % str(time() - start))\n",
    "\n",
    "scores = model.evaluate(X_train, y_train_onehot)\n",
    "print(\"\\n%s: %.2f%%\" % (model.metrics_names[1], scores[1]*100), \"for traininig set\")\n",
    "\n",
    "scores_val = model.evaluate(X_val, y_val_onehot)\n",
    "print(\"\\n%s: %.2f%%\" % (model.metrics_names[1], scores_val[1]*100), \"for validation set\")"
   ]
  },
  {
   "cell_type": "code",
   "execution_count": 88,
   "metadata": {},
   "outputs": [
    {
     "data": {
      "image/png": "[encoded data removed]",
      "text/plain": [
       "<Figure size 432x288 with 1 Axes>"
      ]
     },
     "metadata": {
      "needs_background": "light"
     },
     "output_type": "display_data"
    }
   ],
   "source": [
    "# Plot the accuracy curves for training and validation \n",
    "plt.plot(history.history['acc'], color='b', label=\"Training accuracy\")\n",
    "plt.plot(history.history['val_acc'], color='r',label=\"Validation accuracy\")\n",
    "legend = plt.legend(loc='best', shadow=True)"
   ]
  },
  {
   "cell_type": "code",
   "execution_count": 89,
   "metadata": {},
   "outputs": [],
   "source": [
    "#get the preditions on test data, then create Kaggle submission file 1\n",
    "predictions = model.predict(test)\n",
    "\n",
    "# select the indix with the maximum probability\n",
    "predictions = np.argmax(predictions,axis = 1)\n",
    "\n",
    "pd.DataFrame({\"ImageId\":list(range(1,len(predictions)+1)),\n",
    "                 \"Label\":predictions}).to_csv(\"cnn_kaggle_submission3_20nodes.csv\", index=False, header=True)\n",
    "\n",
    "# Kaggle Score: 0.4428"
   ]
  },
  {
   "cell_type": "code",
   "execution_count": 90,
   "metadata": {},
   "outputs": [
    {
     "data": {
      "text/plain": [
       "{'val_loss': [0.29553433043616156,\n",
       "  0.23415348790940785,\n",
       "  0.22890126307805378,\n",
       "  0.20366628503515607,\n",
       "  0.18415510488407952,\n",
       "  0.1768090179988316,\n",
       "  0.20771997050160454,\n",
       "  0.18109673082828523,\n",
       "  0.1901337196926276,\n",
       "  0.19137049748784019],\n",
       " 'val_acc': [0.9166666666666666,\n",
       "  0.9316666666666666,\n",
       "  0.9347619047619048,\n",
       "  0.9414285714285714,\n",
       "  0.9476190476190476,\n",
       "  0.9473809523809524,\n",
       "  0.9385714285714286,\n",
       "  0.9480952380952381,\n",
       "  0.945952380952381,\n",
       "  0.9466666666666667],\n",
       " 'loss': [0.5066099215941454,\n",
       "  0.2533964672621596,\n",
       "  0.20424088836366694,\n",
       "  0.17736530279001547,\n",
       "  0.15594970183279463,\n",
       "  0.14163249991913004,\n",
       "  0.1303503182601361,\n",
       "  0.12285775352289122,\n",
       "  0.11509465911952907,\n",
       "  0.10998697279306946],\n",
       " 'acc': [0.8454761904761905,\n",
       "  0.926058201058201,\n",
       "  0.9384920634920635,\n",
       "  0.9461640211640212,\n",
       "  0.952936507936508,\n",
       "  0.9557936507936508,\n",
       "  0.9591534391534392,\n",
       "  0.9621957671957672,\n",
       "  0.965026455026455,\n",
       "  0.9657671957671957]}"
      ]
     },
     "execution_count": 90,
     "metadata": {},
     "output_type": "execute_result"
    }
   ],
   "source": [
    "history.history"
   ]
  },
  {
   "cell_type": "code",
   "execution_count": null,
   "metadata": {},
   "outputs": [],
   "source": []
  }
 ],
 "metadata": {
  "kernelspec": {
   "display_name": "Python 3",
   "language": "python",
   "name": "python3"
  },
  "language_info": {
   "codemirror_mode": {
    "name": "ipython",
    "version": 3
   },
   "file_extension": ".py",
   "mimetype": "text/x-python",
   "name": "python",
   "nbconvert_exporter": "python",
   "pygments_lexer": "ipython3",
   "version": "3.7.1"
  }
 },
 "nbformat": 4,
 "nbformat_minor": 2
}
