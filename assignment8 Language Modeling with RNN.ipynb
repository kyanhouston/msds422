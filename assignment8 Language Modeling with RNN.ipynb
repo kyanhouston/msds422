{
 "cells": [
  {
   "cell_type": "markdown",
   "metadata": {},
   "source": [
    "# Part I - Download Pre-Trained GloVe Embeddings"
   ]
  },
  {
   "cell_type": "code",
   "execution_count": 1,
   "metadata": {},
   "outputs": [
    {
     "name": "stdout",
     "output_type": "stream",
     "text": [
      "                   Name  Dimension                     Corpus VocabularySize  \\\n",
      "2          fastText(en)        300                  Wikipedia           2.5M   \n",
      "11         GloVe.6B.50d         50  Wikipedia+Gigaword 5 (6B)           400K   \n",
      "12        GloVe.6B.100d        100  Wikipedia+Gigaword 5 (6B)           400K   \n",
      "13        GloVe.6B.200d        200  Wikipedia+Gigaword 5 (6B)           400K   \n",
      "14        GloVe.6B.300d        300  Wikipedia+Gigaword 5 (6B)           400K   \n",
      "15       GloVe.42B.300d        300          Common Crawl(42B)           1.9M   \n",
      "16      GloVe.840B.300d        300         Common Crawl(840B)           2.2M   \n",
      "17    GloVe.Twitter.25d         25               Twitter(27B)           1.2M   \n",
      "18    GloVe.Twitter.50d         50               Twitter(27B)           1.2M   \n",
      "19   GloVe.Twitter.100d        100               Twitter(27B)           1.2M   \n",
      "20   GloVe.Twitter.200d        200               Twitter(27B)           1.2M   \n",
      "21  word2vec.GoogleNews        300          Google News(100B)           3.0M   \n",
      "\n",
      "      Method Language    Author  \n",
      "2   fastText  English  Facebook  \n",
      "11     GloVe  English  Stanford  \n",
      "12     GloVe  English  Stanford  \n",
      "13     GloVe  English  Stanford  \n",
      "14     GloVe  English  Stanford  \n",
      "15     GloVe  English  Stanford  \n",
      "16     GloVe  English  Stanford  \n",
      "17     GloVe  English  Stanford  \n",
      "18     GloVe  English  Stanford  \n",
      "19     GloVe  English  Stanford  \n",
      "20     GloVe  English  Stanford  \n",
      "21  word2vec  English    Google  \n"
     ]
    }
   ],
   "source": [
    "# Gather embeddings via chakin\n",
    "# Following methods described in\n",
    "#    https://github.com/chakki-works/chakin\n",
    "\n",
    "import numpy as np\n",
    "import tensorflow as tf\n",
    "\n",
    "# Python chakin package previously installed by \n",
    "#    pip install chakin\n",
    "import chakin  \n",
    "import json\n",
    "import os\n",
    "from collections import defaultdict\n",
    "\n",
    "os.chdir('C:\\\\Users\\\\A4 Dell\\\\Desktop\\\\Northwestern University\\\\Practical Machine Learning\\\\week8')\n",
    "chakin.search(lang='English')  # lists available indices in English"
   ]
  },
  {
   "cell_type": "code",
   "execution_count": 2,
   "metadata": {},
   "outputs": [],
   "source": [
    "CHAKIN_INDEX = 11\n",
    "NUMBER_OF_DIMENSIONS = 50\n",
    "SUBFOLDER_NAME = \"gloVe.6B\"\n",
    "\n",
    "DATA_FOLDER = \"embeddings\"\n",
    "ZIP_FILE = os.path.join(DATA_FOLDER, \"{}.zip\".format(SUBFOLDER_NAME))\n",
    "ZIP_FILE_ALT = \"glove\" + ZIP_FILE[5:]  # sometimes it's lowercase only...\n",
    "UNZIP_FOLDER = os.path.join(DATA_FOLDER, SUBFOLDER_NAME)\n",
    "if SUBFOLDER_NAME[-1] == \"d\":\n",
    "    GLOVE_FILENAME = os.path.join(\n",
    "        UNZIP_FOLDER, \"{}.txt\".format(SUBFOLDER_NAME))\n",
    "else:\n",
    "    GLOVE_FILENAME = os.path.join(UNZIP_FOLDER, \"{}.{}d.txt\".format(\n",
    "        SUBFOLDER_NAME, NUMBER_OF_DIMENSIONS))"
   ]
  },
  {
   "cell_type": "code",
   "execution_count": 3,
   "metadata": {},
   "outputs": [
    {
     "name": "stdout",
     "output_type": "stream",
     "text": [
      "Embeddings already downloaded.\n",
      "Embeddings already extracted.\n",
      "\n",
      "Run complete\n"
     ]
    }
   ],
   "source": [
    "if not os.path.exists(ZIP_FILE) and not os.path.exists(UNZIP_FOLDER):\n",
    "    # GloVe by Stanford is licensed Apache 2.0:\n",
    "    #     https://github.com/stanfordnlp/GloVe/blob/master/LICENSE\n",
    "    #     http://nlp.stanford.edu/data/glove.twitter.27B.zip\n",
    "    #     Copyright 2014 The Board of Trustees of The Leland Stanford Junior University\n",
    "    print(\"Downloading embeddings to '{}'\".format(ZIP_FILE))\n",
    "    chakin.download(number=CHAKIN_INDEX, save_dir='./{}'.format(DATA_FOLDER))\n",
    "else:\n",
    "    print(\"Embeddings already downloaded.\")\n",
    "\n",
    "if not os.path.exists(UNZIP_FOLDER):\n",
    "    import zipfile\n",
    "    if not os.path.exists(ZIP_FILE) and os.path.exists(ZIP_FILE_ALT):\n",
    "        ZIP_FILE = ZIP_FILE_ALT\n",
    "    with zipfile.ZipFile(ZIP_FILE, \"r\") as zip_ref:\n",
    "        print(\"Extracting embeddings to '{}'\".format(UNZIP_FOLDER))\n",
    "        zip_ref.extractall(UNZIP_FOLDER)\n",
    "else:\n",
    "    print(\"Embeddings already extracted.\")\n",
    "\n",
    "print('\\nRun complete')"
   ]
  },
  {
   "cell_type": "markdown",
   "metadata": {},
   "source": [
    "# Part II - Data Preparation to Read in Movie Reviews"
   ]
  },
  {
   "cell_type": "code",
   "execution_count": 4,
   "metadata": {},
   "outputs": [
    {
     "name": "stderr",
     "output_type": "stream",
     "text": [
      "Using TensorFlow backend.\n"
     ]
    }
   ],
   "source": [
    "from __future__ import absolute_import\n",
    "from __future__ import division\n",
    "from __future__ import print_function\n",
    "\n",
    "# Keras\n",
    "from keras.preprocessing.text import Tokenizer\n",
    "from keras.preprocessing.sequence import pad_sequences\n",
    "from keras.models import Sequential\n",
    "from keras.layers import Dense, Flatten, LSTM, Conv1D, MaxPooling1D, Dropout, Activation\n",
    "from keras.layers.embeddings import Embedding\n",
    "\n",
    "## Plot\n",
    "from matplotlib import pyplot\n",
    "\n",
    "# NLTK\n",
    "import nltk\n",
    "from nltk.corpus import stopwords\n",
    "from nltk.stem import SnowballStemmer\n",
    "from nltk.tokenize import TreebankWordTokenizer\n",
    "\n",
    "# Other\n",
    "import re\n",
    "import string\n",
    "import numpy as np\n",
    "import pandas as pd\n",
    "from sklearn.manifold import TSNE"
   ]
  },
  {
   "cell_type": "code",
   "execution_count": 5,
   "metadata": {},
   "outputs": [],
   "source": [
    "REMOVE_STOPWORDS = False  # no stopword removal "
   ]
  },
  {
   "cell_type": "code",
   "execution_count": 6,
   "metadata": {},
   "outputs": [],
   "source": [
    "# ------------------------------------------------------------\n",
    "# code for working with movie reviews data \n",
    "# Source: Miller, T. W. (2016). Web and Network Data Science.\n",
    "\n",
    "# This original study used a simple bag-of-words approach\n",
    "# to sentiment analysis, along with pre-defined lists of\n",
    "# negative and positive words.        \n",
    "# Code available at:  https://github.com/mtpa/wnds       \n",
    "# ------------------------------------------------------------\n",
    "# Utility function to get file names within a directory\n",
    "def listdir_no_hidden(path):\n",
    "    start_list = os.listdir(path)\n",
    "    end_list = []\n",
    "    for file in start_list:\n",
    "        if (not file.startswith('.')):\n",
    "            end_list.append(file)\n",
    "    return(end_list)\n",
    "\n",
    "# define list of codes to be dropped from document\n",
    "# carriage-returns, line-feeds, tabs\n",
    "codelist = ['\\r', '\\n', '\\t']   \n",
    "\n",
    "# We will not remove stopwords in this exercise because they are\n",
    "# important to keeping sentences intact\n",
    "if REMOVE_STOPWORDS:\n",
    "    print(nltk.corpus.stopwords.words('english'))\n",
    "\n",
    "# previous analysis of a list of top terms showed a number of words, along \n",
    "# with contractions and other word strings to drop from further analysis, add\n",
    "# these to the usual English stopwords to be dropped from a document collection\n",
    "    more_stop_words = ['cant','didnt','doesnt','dont','goes','isnt','hes',\\\n",
    "        'shes','thats','theres','theyre','wont','youll','youre','youve', 'br'\\\n",
    "        've', 're', 'vs'] \n",
    "\n",
    "    some_proper_nouns_to_remove = ['dick','ginger','hollywood','jack',\\\n",
    "        'jill','john','karloff','kudrow','orson','peter','tcm','tom',\\\n",
    "        'toni','welles','william','wolheim','nikita']\n",
    "\n",
    "    # start with the initial list and add to it for movie text work \n",
    "    stoplist = nltk.corpus.stopwords.words('english') + more_stop_words +\\\n",
    "        some_proper_nouns_to_remove"
   ]
  },
  {
   "cell_type": "code",
   "execution_count": 7,
   "metadata": {},
   "outputs": [],
   "source": [
    "# text parsing function for creating text documents \n",
    "def text_parse(string):\n",
    "    # replace non-alphanumeric with space \n",
    "    temp_string = re.sub('[^a-zA-Z]', '  ', string)    \n",
    "    # replace codes with space\n",
    "    for i in range(len(codelist)):\n",
    "        stopstring = ' ' + codelist[i] + '  '\n",
    "        temp_string = re.sub(stopstring, '  ', temp_string)      \n",
    "    # replace single-character words with space\n",
    "    temp_string = re.sub('\\s.\\s', ' ', temp_string)   \n",
    "    # convert uppercase to lowercase\n",
    "    temp_string = temp_string.lower()    \n",
    "    if REMOVE_STOPWORDS:\n",
    "        # replace selected character strings/stop-words with space\n",
    "        for i in range(len(stoplist)):\n",
    "            stopstring = ' ' + str(stoplist[i]) + ' '\n",
    "            temp_string = re.sub(stopstring, ' ', temp_string)        \n",
    "    # replace multiple blank characters with one blank character\n",
    "    temp_string = re.sub('\\s+', ' ', temp_string)    \n",
    "    return(temp_string)    "
   ]
  },
  {
   "cell_type": "code",
   "execution_count": 8,
   "metadata": {},
   "outputs": [
    {
     "name": "stdout",
     "output_type": "stream",
     "text": [
      "\n",
      "Directory: movie-reviews-negative\n",
      "500 files found\n",
      "\n",
      "Processing document files under movie-reviews-negative\n"
     ]
    }
   ],
   "source": [
    "# -----------------------------------------------\n",
    "# gather data for 500 negative movie reviews\n",
    "# -----------------------------------------------\n",
    "dir_name = 'movie-reviews-negative'\n",
    "    \n",
    "filenames = listdir_no_hidden(path=dir_name)\n",
    "num_files = len(filenames)\n",
    "\n",
    "for i in range(len(filenames)):\n",
    "    file_exists = os.path.isfile(os.path.join(dir_name, filenames[i]))\n",
    "    assert file_exists\n",
    "print('\\nDirectory:',dir_name)    \n",
    "print('%d files found' % len(filenames))\n",
    "\n",
    "# Read data for negative movie reviews\n",
    "# Data will be stored in a list of lists where the each list represents \n",
    "# a document and document is a list of words.\n",
    "# We then break the text into words.\n",
    "\n",
    "def read_data(filename):\n",
    "  with open(filename, encoding='utf-8') as f:\n",
    "    data = tf.compat.as_str(f.read())\n",
    "    data = data.lower()\n",
    "    data = text_parse(data)\n",
    "    data = TreebankWordTokenizer().tokenize(data)  # The Penn Treebank\n",
    "\n",
    "  return data\n",
    "\n",
    "negative_documents = []\n",
    "\n",
    "print('\\nProcessing document files under', dir_name)\n",
    "for i in range(num_files):\n",
    "    #print(' ', filenames[i])\n",
    "    words = read_data(os.path.join(dir_name, filenames[i]))\n",
    "    negative_documents.append(words)"
   ]
  },
  {
   "cell_type": "code",
   "execution_count": 9,
   "metadata": {},
   "outputs": [
    {
     "name": "stdout",
     "output_type": "stream",
     "text": [
      "\n",
      "Directory: movie-reviews-positive\n",
      "500 files found\n",
      "\n",
      "Processing document files under movie-reviews-positive\n"
     ]
    }
   ],
   "source": [
    "# -----------------------------------------------\n",
    "# gather data for 500 positive movie reviews\n",
    "# -----------------------------------------------\n",
    "dir_name = 'movie-reviews-positive'  \n",
    "filenames = listdir_no_hidden(path=dir_name)\n",
    "num_files = len(filenames)\n",
    "\n",
    "for i in range(len(filenames)):\n",
    "    file_exists = os.path.isfile(os.path.join(dir_name, filenames[i]))\n",
    "    assert file_exists\n",
    "print('\\nDirectory:',dir_name)    \n",
    "print('%d files found' % len(filenames))\n",
    "\n",
    "# Read data for positive movie reviews\n",
    "def read_data(filename):\n",
    "  with open(filename, encoding='utf-8') as f:\n",
    "    data = tf.compat.as_str(f.read())\n",
    "    data = data.lower()\n",
    "    data = text_parse(data)\n",
    "    data = TreebankWordTokenizer().tokenize(data)  # The Penn Treebank\n",
    "\n",
    "  return data\n",
    "\n",
    "positive_documents = []\n",
    "\n",
    "print('\\nProcessing document files under', dir_name)\n",
    "for i in range(num_files):\n",
    "    ##print(' ', filenames[i])\n",
    "    words = read_data(os.path.join(dir_name, filenames[i]))\n",
    "    positive_documents.append(words)"
   ]
  },
  {
   "cell_type": "code",
   "execution_count": 10,
   "metadata": {},
   "outputs": [
    {
     "name": "stdout",
     "output_type": "stream",
     "text": [
      "max_review_length: 1052\n",
      "min_review_length: 22\n"
     ]
    }
   ],
   "source": [
    "# -----------------------------------------------------\n",
    "# convert positive/negative documents into numpy array\n",
    "# note that reviews vary from 22 to 1052 words   \n",
    "# so we use the first 20 and last 20 words of each review \n",
    "# as our word sequences for analysis\n",
    "# -----------------------------------------------------\n",
    "max_review_length = 0  # initialize\n",
    "for doc in negative_documents:\n",
    "    max_review_length = max(max_review_length, len(doc))    \n",
    "for doc in positive_documents:\n",
    "    max_review_length = max(max_review_length, len(doc)) \n",
    "print('max_review_length:', max_review_length) \n",
    "\n",
    "min_review_length = max_review_length  # initialize\n",
    "for doc in negative_documents:\n",
    "    min_review_length = min(min_review_length, len(doc))    \n",
    "for doc in positive_documents:\n",
    "    min_review_length = min(min_review_length, len(doc)) \n",
    "print('min_review_length:', min_review_length) \n",
    "\n",
    "# construct list of 1000 lists with 40 words in each list\n",
    "from itertools import chain\n",
    "documents = []\n",
    "for doc in negative_documents:\n",
    "    doc_begin = doc[0:20]\n",
    "    doc_end = doc[len(doc) - 20: len(doc)]\n",
    "    documents.append(list(chain(*[doc_begin, doc_end])))    \n",
    "for doc in positive_documents:\n",
    "    doc_begin = doc[0:20]\n",
    "    doc_end = doc[len(doc) - 20: len(doc)]\n",
    "    documents.append(list(chain(*[doc_begin, doc_end])))    "
   ]
  },
  {
   "cell_type": "markdown",
   "metadata": {},
   "source": [
    "# Part III - Get Word Embeddings from GloVe (50d)"
   ]
  },
  {
   "cell_type": "markdown",
   "metadata": {},
   "source": [
    "Tokenize the text data and convert those into sequences. "
   ]
  },
  {
   "cell_type": "code",
   "execution_count": 11,
   "metadata": {},
   "outputs": [],
   "source": [
    "vocabulary_size = 10000   #specify desired size of pre-defined embedding vocabulary \n",
    "\n",
    "tokenizer = Tokenizer(num_words= vocabulary_size)\n",
    "tokenizer.fit_on_texts(documents)\n",
    "\n",
    "# integer encode the documents\n",
    "sequences = tokenizer.texts_to_sequences(documents)\n",
    "embeddings = pad_sequences(sequences, maxlen=50)"
   ]
  },
  {
   "cell_type": "code",
   "execution_count": 12,
   "metadata": {},
   "outputs": [
    {
     "name": "stdout",
     "output_type": "stream",
     "text": [
      "Loaded 400000 word vectors.\n"
     ]
    }
   ],
   "source": [
    "embeddings_index = dict()\n",
    "f = open('embeddings/gloVe.6B/glove.6B.50d.txt', encoding=\"utf8\")\n",
    "for line in f:\n",
    "    values = line.split()\n",
    "    word = values[0]\n",
    "    coefs = np.asarray(values[1:], dtype='float32')\n",
    "    embeddings_index[word] = coefs\n",
    "f.close()\n",
    "print('Loaded %s word vectors.' % len(embeddings_index))"
   ]
  },
  {
   "cell_type": "code",
   "execution_count": 13,
   "metadata": {},
   "outputs": [],
   "source": [
    "# create a weight matrix for words in training docs\n",
    "embedding_matrix = np.zeros((vocabulary_size, 50))\n",
    "for word, index in tokenizer.word_index.items():\n",
    "    if index > vocabulary_size - 1:\n",
    "        break\n",
    "    else:\n",
    "        embedding_vector = embeddings_index.get(word)\n",
    "        if embedding_vector is not None:\n",
    "            embedding_matrix[index] = embedding_vector"
   ]
  },
  {
   "cell_type": "code",
   "execution_count": 14,
   "metadata": {},
   "outputs": [],
   "source": [
    "# -----------------------------------------------------    \n",
    "# Make embeddings a numpy array for use in an RNN \n",
    "# Create training and test sets with Scikit Learn\n",
    "# -----------------------------------------------------\n",
    "RANDOM_SEED = 9999\n",
    "\n",
    "embeddings_array = np.array(embeddings)\n",
    "\n",
    "# Define the labels to be used 500 negative (0) and 500 positive (1)\n",
    "thumbs_down_up = np.concatenate((np.zeros((500), dtype = np.int32), \n",
    "                      np.ones((500), dtype = np.int32)), axis = 0)\n",
    "\n",
    "# Scikit Learn for random splitting of the data  \n",
    "from sklearn.model_selection import train_test_split\n",
    "\n",
    "# Random splitting of the data in to training (80%) and test (20%)  \n",
    "X_train, X_test, y_train, y_test = \\\n",
    "    train_test_split(embeddings_array, thumbs_down_up, test_size=0.20, \n",
    "                     random_state = RANDOM_SEED)"
   ]
  },
  {
   "cell_type": "code",
   "execution_count": 15,
   "metadata": {},
   "outputs": [
    {
     "data": {
      "text/plain": [
       "(800, 50)"
      ]
     },
     "execution_count": 15,
     "metadata": {},
     "output_type": "execute_result"
    }
   ],
   "source": [
    "X_train.shape"
   ]
  },
  {
   "cell_type": "code",
   "execution_count": 16,
   "metadata": {},
   "outputs": [
    {
     "data": {
      "text/plain": [
       "(800,)"
      ]
     },
     "execution_count": 16,
     "metadata": {},
     "output_type": "execute_result"
    }
   ],
   "source": [
    "y_train.shape"
   ]
  },
  {
   "cell_type": "markdown",
   "metadata": {},
   "source": [
    "# Part IV - Build RNN Model"
   ]
  },
  {
   "cell_type": "code",
   "execution_count": 38,
   "metadata": {},
   "outputs": [
    {
     "name": "stdout",
     "output_type": "stream",
     "text": [
      "_________________________________________________________________\n",
      "Layer (type)                 Output Shape              Param #   \n",
      "=================================================================\n",
      "embedding_8 (Embedding)      (None, 50, 50)            500000    \n",
      "_________________________________________________________________\n",
      "dropout_3 (Dropout)          (None, 50, 50)            0         \n",
      "_________________________________________________________________\n",
      "conv1d_4 (Conv1D)            (None, 46, 64)            16064     \n",
      "_________________________________________________________________\n",
      "max_pooling1d_4 (MaxPooling1 (None, 11, 64)            0         \n",
      "_________________________________________________________________\n",
      "lstm_9 (LSTM)                (None, 50)                23000     \n",
      "_________________________________________________________________\n",
      "dense_7 (Dense)              (None, 1)                 51        \n",
      "=================================================================\n",
      "Total params: 539,115\n",
      "Trainable params: 39,115\n",
      "Non-trainable params: 500,000\n",
      "_________________________________________________________________\n"
     ]
    }
   ],
   "source": [
    "model = Sequential()\n",
    "model.add(Embedding(vocabulary_size, 50, input_length=50, trainable=False))\n",
    "model.add(Dropout(0.2))\n",
    "model.add(Conv1D(64, 5, activation='relu'))\n",
    "model.add(MaxPooling1D(pool_size=4))\n",
    "model.add(LSTM(50, dropout=0.2, recurrent_dropout=0.2, return_sequences=False))\n",
    "model.add(Dense(1, activation='sigmoid'))\n",
    "model.summary()"
   ]
  },
  {
   "cell_type": "code",
   "execution_count": 39,
   "metadata": {},
   "outputs": [
    {
     "name": "stdout",
     "output_type": "stream",
     "text": [
      "Train on 800 samples, validate on 200 samples\n",
      "Epoch 1/30\n",
      "800/800 [==============================] - 4s 5ms/step - loss: 0.6930 - acc: 0.5062 - val_loss: 0.6940 - val_acc: 0.4700\n",
      "Epoch 2/30\n",
      "800/800 [==============================] - 1s 1ms/step - loss: 0.6928 - acc: 0.5100 - val_loss: 0.6930 - val_acc: 0.4750\n",
      "Epoch 3/30\n",
      "800/800 [==============================] - 1s 1ms/step - loss: 0.6923 - acc: 0.5162 - val_loss: 0.6919 - val_acc: 0.5000\n",
      "Epoch 4/30\n",
      "800/800 [==============================] - 1s 1ms/step - loss: 0.6893 - acc: 0.5150 - val_loss: 0.6921 - val_acc: 0.4700\n",
      "Epoch 5/30\n",
      "800/800 [==============================] - 1s 1ms/step - loss: 0.6845 - acc: 0.5887 - val_loss: 0.6860 - val_acc: 0.6650\n",
      "Epoch 6/30\n",
      "800/800 [==============================] - 1s 1ms/step - loss: 0.6751 - acc: 0.6412 - val_loss: 0.6708 - val_acc: 0.6600\n",
      "Epoch 7/30\n",
      "800/800 [==============================] - 1s 1ms/step - loss: 0.6615 - acc: 0.6050 - val_loss: 0.6593 - val_acc: 0.6350\n",
      "Epoch 8/30\n",
      "800/800 [==============================] - 1s 1ms/step - loss: 0.6381 - acc: 0.6400 - val_loss: 0.6520 - val_acc: 0.5750\n",
      "Epoch 9/30\n",
      "800/800 [==============================] - 1s 1ms/step - loss: 0.6221 - acc: 0.6362 - val_loss: 0.6222 - val_acc: 0.6700\n",
      "Epoch 10/30\n",
      "800/800 [==============================] - 1s 1ms/step - loss: 0.5810 - acc: 0.7100 - val_loss: 0.6137 - val_acc: 0.6950\n",
      "Epoch 11/30\n",
      "800/800 [==============================] - 1s 1ms/step - loss: 0.5943 - acc: 0.6763 - val_loss: 0.6150 - val_acc: 0.6550\n",
      "Epoch 12/30\n",
      "800/800 [==============================] - 1s 1ms/step - loss: 0.5400 - acc: 0.7488 - val_loss: 0.5920 - val_acc: 0.6550\n",
      "Epoch 13/30\n",
      "800/800 [==============================] - 1s 1ms/step - loss: 0.5297 - acc: 0.7338 - val_loss: 0.6638 - val_acc: 0.5850\n",
      "Epoch 14/30\n",
      "800/800 [==============================] - 1s 1ms/step - loss: 0.5041 - acc: 0.7425 - val_loss: 0.5939 - val_acc: 0.6850\n",
      "Epoch 15/30\n",
      "800/800 [==============================] - 1s 1ms/step - loss: 0.4613 - acc: 0.7888 - val_loss: 0.6206 - val_acc: 0.6350\n",
      "Epoch 16/30\n",
      "800/800 [==============================] - 1s 1ms/step - loss: 0.4361 - acc: 0.8050 - val_loss: 0.5915 - val_acc: 0.6800\n",
      "Epoch 17/30\n",
      "800/800 [==============================] - 1s 1ms/step - loss: 0.3702 - acc: 0.8500 - val_loss: 0.5994 - val_acc: 0.6600\n",
      "Epoch 18/30\n",
      "800/800 [==============================] - 1s 1ms/step - loss: 0.3886 - acc: 0.8275 - val_loss: 0.5967 - val_acc: 0.6750\n",
      "Epoch 19/30\n",
      "800/800 [==============================] - 1s 1ms/step - loss: 0.3340 - acc: 0.8588 - val_loss: 0.5918 - val_acc: 0.6550\n",
      "Epoch 20/30\n",
      "800/800 [==============================] - 1s 1ms/step - loss: 0.2950 - acc: 0.8775 - val_loss: 0.7301 - val_acc: 0.6400\n",
      "Epoch 21/30\n",
      "800/800 [==============================] - 1s 1ms/step - loss: 0.2946 - acc: 0.8850 - val_loss: 0.6061 - val_acc: 0.6300\n",
      "Epoch 22/30\n",
      "800/800 [==============================] - 1s 1ms/step - loss: 0.2398 - acc: 0.9012 - val_loss: 0.6197 - val_acc: 0.6450\n",
      "Epoch 23/30\n",
      "800/800 [==============================] - 1s 1ms/step - loss: 0.2474 - acc: 0.8975 - val_loss: 0.7788 - val_acc: 0.6050\n",
      "Epoch 24/30\n",
      "800/800 [==============================] - 1s 1ms/step - loss: 0.2530 - acc: 0.8938 - val_loss: 0.6399 - val_acc: 0.6400\n",
      "Epoch 25/30\n",
      "800/800 [==============================] - 1s 1ms/step - loss: 0.2031 - acc: 0.9187 - val_loss: 0.6309 - val_acc: 0.6550\n",
      "Epoch 26/30\n",
      "800/800 [==============================] - 1s 1ms/step - loss: 0.1716 - acc: 0.9413 - val_loss: 0.6787 - val_acc: 0.6250\n",
      "Epoch 27/30\n",
      "800/800 [==============================] - 1s 1ms/step - loss: 0.1689 - acc: 0.9375 - val_loss: 0.6390 - val_acc: 0.6400\n",
      "Epoch 28/30\n",
      "800/800 [==============================] - 1s 1ms/step - loss: 0.1658 - acc: 0.9450 - val_loss: 0.6212 - val_acc: 0.6500\n",
      "Epoch 29/30\n",
      "800/800 [==============================] - 1s 1ms/step - loss: 0.1510 - acc: 0.9475 - val_loss: 0.6548 - val_acc: 0.6500\n",
      "Epoch 30/30\n",
      "800/800 [==============================] - 1s 1ms/step - loss: 0.1740 - acc: 0.9400 - val_loss: 0.6553 - val_acc: 0.6400\n"
     ]
    }
   ],
   "source": [
    "# try using different optimizers and different optimizer configs\n",
    "model.compile(loss='binary_crossentropy',\n",
    "              optimizer='adam',\n",
    "              metrics=['accuracy'])\n",
    "\n",
    "history = model.fit(X_train, y_train, epochs=30, validation_data=(X_test, y_test))"
   ]
  },
  {
   "cell_type": "code",
   "execution_count": 40,
   "metadata": {},
   "outputs": [
    {
     "name": "stdout",
     "output_type": "stream",
     "text": [
      "800/800 [==============================] - 0s 299us/step\n",
      "Train score: 0.045682898312807085\n",
      "Train accuracy: 1.0\n",
      "200/200 [==============================] - 0s 335us/step\n",
      "Test score: 0.6553141331672668\n",
      "Test accuracy: 0.64\n"
     ]
    }
   ],
   "source": [
    "batch_size = 64\n",
    "\n",
    "score, acc = model.evaluate(X_train, y_train, batch_size=batch_size)\n",
    "print('Train score:', score)\n",
    "print('Train accuracy:', acc)\n",
    "\n",
    "score, acc = model.evaluate(X_test, y_test, batch_size=batch_size)\n",
    "print('Test score:', score)\n",
    "print('Test accuracy:', acc)"
   ]
  },
  {
   "cell_type": "code",
   "execution_count": 41,
   "metadata": {},
   "outputs": [
    {
     "data": {
      "image/png": "[encoded data removed]",
      "text/plain": [
       "<Figure size 432x288 with 1 Axes>"
      ]
     },
     "metadata": {
      "needs_background": "light"
     },
     "output_type": "display_data"
    }
   ],
   "source": [
    "# Plot the accuracy curves for training and validation \n",
    "pyplot.plot(history.history['acc'], color='b', label=\"Training accuracy\")\n",
    "pyplot.plot(history.history['val_acc'], color='r',label=\"Validation accuracy\")\n",
    "legend = pyplot.legend(loc='best', shadow=True)"
   ]
  },
  {
   "cell_type": "markdown",
   "metadata": {},
   "source": [
    "# Increase Vocabulary Size and Run Model Again (50d)"
   ]
  },
  {
   "cell_type": "code",
   "execution_count": 42,
   "metadata": {},
   "outputs": [],
   "source": [
    "vocabulary_size = 30000   #specify desired size of pre-defined embedding vocabulary \n",
    "\n",
    "tokenizer = Tokenizer(num_words= vocabulary_size)\n",
    "tokenizer.fit_on_texts(documents)\n",
    "\n",
    "# integer encode the documents\n",
    "sequences = tokenizer.texts_to_sequences(documents)\n",
    "embeddings = pad_sequences(sequences, maxlen=50)"
   ]
  },
  {
   "cell_type": "code",
   "execution_count": 43,
   "metadata": {},
   "outputs": [
    {
     "name": "stdout",
     "output_type": "stream",
     "text": [
      "Loaded 400000 word vectors.\n"
     ]
    }
   ],
   "source": [
    "embeddings_index = dict()\n",
    "f = open('embeddings/gloVe.6B/glove.6B.50d.txt', encoding=\"utf8\")\n",
    "for line in f:\n",
    "    values = line.split()\n",
    "    word = values[0]\n",
    "    coefs = np.asarray(values[1:], dtype='float32')\n",
    "    embeddings_index[word] = coefs\n",
    "f.close()\n",
    "print('Loaded %s word vectors.' % len(embeddings_index))\n",
    "\n",
    "# create a weight matrix for words in training docs\n",
    "embedding_matrix = np.zeros((vocabulary_size, 50))\n",
    "for word, index in tokenizer.word_index.items():\n",
    "    if index > vocabulary_size - 1:\n",
    "        break\n",
    "    else:\n",
    "        embedding_vector = embeddings_index.get(word)\n",
    "        if embedding_vector is not None:\n",
    "            embedding_matrix[index] = embedding_vector"
   ]
  },
  {
   "cell_type": "code",
   "execution_count": 44,
   "metadata": {},
   "outputs": [],
   "source": [
    "# -----------------------------------------------------    \n",
    "# Make embeddings a numpy array for use in an RNN \n",
    "# Create training and test sets with Scikit Learn\n",
    "# -----------------------------------------------------\n",
    "RANDOM_SEED = 9999\n",
    "\n",
    "embeddings_array = np.array(embeddings)\n",
    "\n",
    "# Define the labels to be used 500 negative (0) and 500 positive (1)\n",
    "thumbs_down_up = np.concatenate((np.zeros((500), dtype = np.int32), \n",
    "                      np.ones((500), dtype = np.int32)), axis = 0)\n",
    "\n",
    "# Scikit Learn for random splitting of the data  \n",
    "from sklearn.model_selection import train_test_split\n",
    "\n",
    "# Random splitting of the data in to training (80%) and test (20%)  \n",
    "X_train, X_test, y_train, y_test = \\\n",
    "    train_test_split(embeddings_array, thumbs_down_up, test_size=0.20, \n",
    "                     random_state = RANDOM_SEED)"
   ]
  },
  {
   "cell_type": "code",
   "execution_count": 45,
   "metadata": {},
   "outputs": [
    {
     "name": "stdout",
     "output_type": "stream",
     "text": [
      "_________________________________________________________________\n",
      "Layer (type)                 Output Shape              Param #   \n",
      "=================================================================\n",
      "embedding_9 (Embedding)      (None, 50, 50)            1500000   \n",
      "_________________________________________________________________\n",
      "dropout_4 (Dropout)          (None, 50, 50)            0         \n",
      "_________________________________________________________________\n",
      "conv1d_5 (Conv1D)            (None, 46, 64)            16064     \n",
      "_________________________________________________________________\n",
      "max_pooling1d_5 (MaxPooling1 (None, 11, 64)            0         \n",
      "_________________________________________________________________\n",
      "lstm_10 (LSTM)               (None, 50)                23000     \n",
      "_________________________________________________________________\n",
      "dense_8 (Dense)              (None, 1)                 51        \n",
      "=================================================================\n",
      "Total params: 1,539,115\n",
      "Trainable params: 39,115\n",
      "Non-trainable params: 1,500,000\n",
      "_________________________________________________________________\n"
     ]
    }
   ],
   "source": [
    "model = Sequential()\n",
    "model.add(Embedding(vocabulary_size, 50, input_length=50, trainable=False))\n",
    "model.add(Dropout(0.2))\n",
    "model.add(Conv1D(64, 5, activation='relu'))\n",
    "model.add(MaxPooling1D(pool_size=4))\n",
    "model.add(LSTM(50, dropout=0.2, recurrent_dropout=0.2, return_sequences=False))\n",
    "model.add(Dense(1, activation='sigmoid'))\n",
    "model.summary()"
   ]
  },
  {
   "cell_type": "code",
   "execution_count": 46,
   "metadata": {},
   "outputs": [
    {
     "name": "stdout",
     "output_type": "stream",
     "text": [
      "Train on 800 samples, validate on 200 samples\n",
      "Epoch 1/30\n",
      "800/800 [==============================] - 4s 5ms/step - loss: 0.6949 - acc: 0.5150 - val_loss: 0.6925 - val_acc: 0.5600\n",
      "Epoch 2/30\n",
      "800/800 [==============================] - 1s 1ms/step - loss: 0.6919 - acc: 0.5500 - val_loss: 0.6923 - val_acc: 0.5400\n",
      "Epoch 3/30\n",
      "800/800 [==============================] - 1s 1ms/step - loss: 0.6912 - acc: 0.5275 - val_loss: 0.6912 - val_acc: 0.5650\n",
      "Epoch 4/30\n",
      "800/800 [==============================] - 1s 1ms/step - loss: 0.6897 - acc: 0.5725 - val_loss: 0.6903 - val_acc: 0.5650\n",
      "Epoch 5/30\n",
      "800/800 [==============================] - 1s 1ms/step - loss: 0.6852 - acc: 0.6112 - val_loss: 0.6857 - val_acc: 0.5900\n",
      "Epoch 6/30\n",
      "800/800 [==============================] - 1s 1ms/step - loss: 0.6769 - acc: 0.5950 - val_loss: 0.6782 - val_acc: 0.5900\n",
      "Epoch 7/30\n",
      "800/800 [==============================] - 1s 1ms/step - loss: 0.6663 - acc: 0.6150 - val_loss: 0.6775 - val_acc: 0.5600\n",
      "Epoch 8/30\n",
      "800/800 [==============================] - 1s 1ms/step - loss: 0.6508 - acc: 0.6262 - val_loss: 0.6676 - val_acc: 0.5800\n",
      "Epoch 9/30\n",
      "800/800 [==============================] - 1s 1ms/step - loss: 0.6268 - acc: 0.6638 - val_loss: 0.6594 - val_acc: 0.5950\n",
      "Epoch 10/30\n",
      "800/800 [==============================] - 1s 1ms/step - loss: 0.6044 - acc: 0.6875 - val_loss: 0.7038 - val_acc: 0.5750\n",
      "Epoch 11/30\n",
      "800/800 [==============================] - 1s 1ms/step - loss: 0.5940 - acc: 0.6812 - val_loss: 0.6564 - val_acc: 0.6100\n",
      "Epoch 12/30\n",
      "800/800 [==============================] - 1s 1ms/step - loss: 0.5575 - acc: 0.7338 - val_loss: 0.6590 - val_acc: 0.5950\n",
      "Epoch 13/30\n",
      "800/800 [==============================] - 1s 1ms/step - loss: 0.5083 - acc: 0.7612 - val_loss: 0.6990 - val_acc: 0.5900\n",
      "Epoch 14/30\n",
      "800/800 [==============================] - 1s 1ms/step - loss: 0.4916 - acc: 0.7725 - val_loss: 0.6565 - val_acc: 0.6050\n",
      "Epoch 15/30\n",
      "800/800 [==============================] - 1s 1ms/step - loss: 0.4583 - acc: 0.7937 - val_loss: 0.6514 - val_acc: 0.6250\n",
      "Epoch 16/30\n",
      "800/800 [==============================] - 1s 1ms/step - loss: 0.4101 - acc: 0.8250 - val_loss: 0.8364 - val_acc: 0.5700\n",
      "Epoch 17/30\n",
      "800/800 [==============================] - 1s 1ms/step - loss: 0.4467 - acc: 0.8188 - val_loss: 0.6522 - val_acc: 0.6150\n",
      "Epoch 18/30\n",
      "800/800 [==============================] - 1s 1ms/step - loss: 0.3872 - acc: 0.8250 - val_loss: 0.6840 - val_acc: 0.6300\n",
      "Epoch 19/30\n",
      "800/800 [==============================] - 1s 1ms/step - loss: 0.3642 - acc: 0.8513 - val_loss: 0.6545 - val_acc: 0.6000\n",
      "Epoch 20/30\n",
      "800/800 [==============================] - 1s 1ms/step - loss: 0.2830 - acc: 0.9000 - val_loss: 0.7095 - val_acc: 0.6500\n",
      "Epoch 21/30\n",
      "800/800 [==============================] - 1s 1ms/step - loss: 0.2644 - acc: 0.8962 - val_loss: 0.7070 - val_acc: 0.6100\n",
      "Epoch 22/30\n",
      "800/800 [==============================] - 1s 1ms/step - loss: 0.2473 - acc: 0.9100 - val_loss: 0.7252 - val_acc: 0.6600\n",
      "Epoch 23/30\n",
      "800/800 [==============================] - 1s 1ms/step - loss: 0.2028 - acc: 0.9200 - val_loss: 0.7738 - val_acc: 0.6050\n",
      "Epoch 24/30\n",
      "800/800 [==============================] - 1s 1ms/step - loss: 0.1860 - acc: 0.9312 - val_loss: 0.8397 - val_acc: 0.5750\n",
      "Epoch 25/30\n",
      "800/800 [==============================] - 1s 1ms/step - loss: 0.1837 - acc: 0.9288 - val_loss: 0.7574 - val_acc: 0.6550\n",
      "Epoch 26/30\n",
      "800/800 [==============================] - 1s 1ms/step - loss: 0.1916 - acc: 0.9312 - val_loss: 0.7849 - val_acc: 0.6350\n",
      "Epoch 27/30\n",
      "800/800 [==============================] - 1s 1ms/step - loss: 0.1665 - acc: 0.9337 - val_loss: 0.7361 - val_acc: 0.6300\n",
      "Epoch 28/30\n",
      "800/800 [==============================] - 1s 1ms/step - loss: 0.1601 - acc: 0.9563 - val_loss: 0.8611 - val_acc: 0.5700\n",
      "Epoch 29/30\n",
      "800/800 [==============================] - 1s 1ms/step - loss: 0.1347 - acc: 0.9537 - val_loss: 0.8648 - val_acc: 0.6150\n",
      "Epoch 30/30\n",
      "800/800 [==============================] - 1s 1ms/step - loss: 0.1219 - acc: 0.9587 - val_loss: 0.8700 - val_acc: 0.6300\n"
     ]
    }
   ],
   "source": [
    "model.compile(loss='binary_crossentropy',\n",
    "              optimizer='adam',\n",
    "              metrics=['accuracy'])\n",
    "\n",
    "history = model.fit(X_train, y_train, epochs=30, validation_data=(X_test, y_test))"
   ]
  },
  {
   "cell_type": "code",
   "execution_count": 47,
   "metadata": {},
   "outputs": [
    {
     "name": "stdout",
     "output_type": "stream",
     "text": [
      "800/800 [==============================] - 0s 339us/step\n",
      "Train score: 0.03004296436905861\n",
      "Train accuracy: 1.0\n",
      "200/200 [==============================] - 0s 405us/step\n",
      "Test score: 0.8699655938148498\n",
      "Test accuracy: 0.63\n"
     ]
    },
    {
     "data": {
      "image/png": "[encoded data removed]",
      "text/plain": [
       "<Figure size 432x288 with 1 Axes>"
      ]
     },
     "metadata": {
      "needs_background": "light"
     },
     "output_type": "display_data"
    }
   ],
   "source": [
    "score, acc = model.evaluate(X_train, y_train, batch_size=batch_size)\n",
    "print('Train score:', score)\n",
    "print('Train accuracy:', acc)\n",
    "\n",
    "score, acc = model.evaluate(X_test, y_test, batch_size=batch_size)\n",
    "print('Test score:', score)\n",
    "print('Test accuracy:', acc)\n",
    "\n",
    "# Plot the accuracy curves for training and validation \n",
    "pyplot.plot(history.history['acc'], color='b', label=\"Training accuracy\")\n",
    "pyplot.plot(history.history['val_acc'], color='r',label=\"Validation accuracy\")\n",
    "legend = pyplot.legend(loc='best', shadow=True)"
   ]
  },
  {
   "cell_type": "markdown",
   "metadata": {},
   "source": [
    "# Part V - Use GloVe Embeddings 100d"
   ]
  },
  {
   "cell_type": "code",
   "execution_count": 48,
   "metadata": {},
   "outputs": [
    {
     "name": "stdout",
     "output_type": "stream",
     "text": [
      "Loaded 400000 word vectors.\n"
     ]
    }
   ],
   "source": [
    "vocabulary_size = 10000   #specify desired size of pre-defined embedding vocabulary \n",
    "\n",
    "tokenizer = Tokenizer(num_words= vocabulary_size)\n",
    "tokenizer.fit_on_texts(documents)\n",
    "\n",
    "# integer encode the documents\n",
    "sequences = tokenizer.texts_to_sequences(documents)\n",
    "embeddings = pad_sequences(sequences, maxlen=50)\n",
    "\n",
    "embeddings_index = dict()\n",
    "f = open('embeddings/gloVe.6B/glove.6B.100d.txt', encoding=\"utf8\")\n",
    "for line in f:\n",
    "    values = line.split()\n",
    "    word = values[0]\n",
    "    coefs = np.asarray(values[1:], dtype='float32')\n",
    "    embeddings_index[word] = coefs\n",
    "f.close()\n",
    "print('Loaded %s word vectors.' % len(embeddings_index))\n",
    "\n",
    "# create a weight matrix for words in training docs\n",
    "embedding_matrix = np.zeros((vocabulary_size, 100))\n",
    "for word, index in tokenizer.word_index.items():\n",
    "    if index > vocabulary_size - 1:\n",
    "        break\n",
    "    else:\n",
    "        embedding_vector = embeddings_index.get(word)\n",
    "        if embedding_vector is not None:\n",
    "            embedding_matrix[index] = embedding_vector"
   ]
  },
  {
   "cell_type": "code",
   "execution_count": 49,
   "metadata": {},
   "outputs": [],
   "source": [
    "# -----------------------------------------------------    \n",
    "# Make embeddings a numpy array for use in an RNN \n",
    "# Create training and test sets with Scikit Learn\n",
    "# -----------------------------------------------------\n",
    "RANDOM_SEED = 9999\n",
    "\n",
    "embeddings_array = np.array(embeddings)\n",
    "\n",
    "# Define the labels to be used 500 negative (0) and 500 positive (1)\n",
    "thumbs_down_up = np.concatenate((np.zeros((500), dtype = np.int32), \n",
    "                      np.ones((500), dtype = np.int32)), axis = 0)\n",
    "\n",
    "# Scikit Learn for random splitting of the data  \n",
    "from sklearn.model_selection import train_test_split\n",
    "\n",
    "# Random splitting of the data in to training (80%) and test (20%)  \n",
    "X_train, X_test, y_train, y_test = \\\n",
    "    train_test_split(embeddings_array, thumbs_down_up, test_size=0.20, \n",
    "                     random_state = RANDOM_SEED)"
   ]
  },
  {
   "cell_type": "code",
   "execution_count": 50,
   "metadata": {},
   "outputs": [
    {
     "name": "stdout",
     "output_type": "stream",
     "text": [
      "_________________________________________________________________\n",
      "Layer (type)                 Output Shape              Param #   \n",
      "=================================================================\n",
      "embedding_10 (Embedding)     (None, 50, 100)           1000000   \n",
      "_________________________________________________________________\n",
      "dropout_5 (Dropout)          (None, 50, 100)           0         \n",
      "_________________________________________________________________\n",
      "conv1d_6 (Conv1D)            (None, 46, 64)            32064     \n",
      "_________________________________________________________________\n",
      "max_pooling1d_6 (MaxPooling1 (None, 11, 64)            0         \n",
      "_________________________________________________________________\n",
      "lstm_11 (LSTM)               (None, 100)               66000     \n",
      "_________________________________________________________________\n",
      "dense_9 (Dense)              (None, 1)                 101       \n",
      "=================================================================\n",
      "Total params: 1,098,165\n",
      "Trainable params: 98,165\n",
      "Non-trainable params: 1,000,000\n",
      "_________________________________________________________________\n"
     ]
    }
   ],
   "source": [
    "model = Sequential()\n",
    "model.add(Embedding(vocabulary_size, 100, input_length=50, trainable=False))\n",
    "model.add(Dropout(0.2))\n",
    "model.add(Conv1D(64, 5, activation='relu'))\n",
    "model.add(MaxPooling1D(pool_size=4))\n",
    "model.add(LSTM(100, dropout=0.2, recurrent_dropout=0.2, return_sequences=False))\n",
    "model.add(Dense(1, activation='sigmoid'))\n",
    "model.summary()"
   ]
  },
  {
   "cell_type": "code",
   "execution_count": 51,
   "metadata": {},
   "outputs": [
    {
     "name": "stdout",
     "output_type": "stream",
     "text": [
      "Train on 800 samples, validate on 200 samples\n",
      "Epoch 1/30\n",
      "800/800 [==============================] - 5s 6ms/step - loss: 0.6971 - acc: 0.4675 - val_loss: 0.6949 - val_acc: 0.4700\n",
      "Epoch 2/30\n",
      "800/800 [==============================] - 1s 1ms/step - loss: 0.6916 - acc: 0.5038 - val_loss: 0.6928 - val_acc: 0.4700\n",
      "Epoch 3/30\n",
      "800/800 [==============================] - 1s 1ms/step - loss: 0.6879 - acc: 0.5513 - val_loss: 0.6894 - val_acc: 0.5850\n",
      "Epoch 4/30\n",
      "800/800 [==============================] - 1s 1ms/step - loss: 0.6748 - acc: 0.6163 - val_loss: 0.6672 - val_acc: 0.6200\n",
      "Epoch 5/30\n",
      "800/800 [==============================] - 1s 1ms/step - loss: 0.6284 - acc: 0.6812 - val_loss: 0.6636 - val_acc: 0.6050\n",
      "Epoch 6/30\n",
      "800/800 [==============================] - 1s 1ms/step - loss: 0.6037 - acc: 0.6737 - val_loss: 0.6361 - val_acc: 0.6400\n",
      "Epoch 7/30\n",
      "800/800 [==============================] - 1s 1ms/step - loss: 0.5646 - acc: 0.7050 - val_loss: 0.6642 - val_acc: 0.5900\n",
      "Epoch 8/30\n",
      "800/800 [==============================] - 1s 1ms/step - loss: 0.5053 - acc: 0.7450 - val_loss: 0.6229 - val_acc: 0.6400\n",
      "Epoch 9/30\n",
      "800/800 [==============================] - 1s 1ms/step - loss: 0.4405 - acc: 0.8100 - val_loss: 0.6112 - val_acc: 0.6800\n",
      "Epoch 10/30\n",
      "800/800 [==============================] - 1s 1ms/step - loss: 0.4173 - acc: 0.8100 - val_loss: 0.6030 - val_acc: 0.6700\n",
      "Epoch 11/30\n",
      "800/800 [==============================] - 1s 1ms/step - loss: 0.3699 - acc: 0.8350 - val_loss: 0.6127 - val_acc: 0.6750\n",
      "Epoch 12/30\n",
      "800/800 [==============================] - 1s 1ms/step - loss: 0.2854 - acc: 0.8750 - val_loss: 0.7059 - val_acc: 0.6400\n",
      "Epoch 13/30\n",
      "800/800 [==============================] - 1s 1ms/step - loss: 0.2587 - acc: 0.8938 - val_loss: 0.6782 - val_acc: 0.6800\n",
      "Epoch 14/30\n",
      "800/800 [==============================] - 1s 1ms/step - loss: 0.2503 - acc: 0.8987 - val_loss: 0.6134 - val_acc: 0.7000\n",
      "Epoch 15/30\n",
      "800/800 [==============================] - 1s 1ms/step - loss: 0.2288 - acc: 0.9025 - val_loss: 0.6316 - val_acc: 0.6600\n",
      "Epoch 16/30\n",
      "800/800 [==============================] - 1s 1ms/step - loss: 0.1648 - acc: 0.9375 - val_loss: 0.6303 - val_acc: 0.6850\n",
      "Epoch 17/30\n",
      "800/800 [==============================] - 1s 1ms/step - loss: 0.1441 - acc: 0.9500 - val_loss: 0.6634 - val_acc: 0.6850\n",
      "Epoch 18/30\n",
      "800/800 [==============================] - 1s 1ms/step - loss: 0.1311 - acc: 0.9563 - val_loss: 0.7417 - val_acc: 0.6550\n",
      "Epoch 19/30\n",
      "800/800 [==============================] - 1s 1ms/step - loss: 0.1152 - acc: 0.9612 - val_loss: 0.7017 - val_acc: 0.7000\n",
      "Epoch 20/30\n",
      "800/800 [==============================] - 1s 1ms/step - loss: 0.0949 - acc: 0.9675 - val_loss: 0.7371 - val_acc: 0.6900\n",
      "Epoch 21/30\n",
      "800/800 [==============================] - 1s 1ms/step - loss: 0.1151 - acc: 0.9525 - val_loss: 0.7085 - val_acc: 0.6900\n",
      "Epoch 22/30\n",
      "800/800 [==============================] - 1s 1ms/step - loss: 0.0901 - acc: 0.9675 - val_loss: 0.7506 - val_acc: 0.6850\n",
      "Epoch 23/30\n",
      "800/800 [==============================] - 1s 1ms/step - loss: 0.0921 - acc: 0.9713 - val_loss: 1.0855 - val_acc: 0.6100\n",
      "Epoch 24/30\n",
      "800/800 [==============================] - 1s 1ms/step - loss: 0.0774 - acc: 0.9688 - val_loss: 0.7575 - val_acc: 0.6850\n",
      "Epoch 25/30\n",
      "800/800 [==============================] - 1s 1ms/step - loss: 0.0873 - acc: 0.9738 - val_loss: 0.7523 - val_acc: 0.6800\n",
      "Epoch 26/30\n",
      "800/800 [==============================] - 1s 1ms/step - loss: 0.0616 - acc: 0.9838 - val_loss: 0.9727 - val_acc: 0.6500\n",
      "Epoch 27/30\n",
      "800/800 [==============================] - 1s 1ms/step - loss: 0.0605 - acc: 0.9775 - val_loss: 1.3425 - val_acc: 0.6050\n",
      "Epoch 28/30\n",
      "800/800 [==============================] - 1s 1ms/step - loss: 0.0638 - acc: 0.9812 - val_loss: 0.7537 - val_acc: 0.6450\n",
      "Epoch 29/30\n",
      "800/800 [==============================] - 1s 1ms/step - loss: 0.0532 - acc: 0.9825 - val_loss: 0.9234 - val_acc: 0.6200\n",
      "Epoch 30/30\n",
      "800/800 [==============================] - 1s 1ms/step - loss: 0.0671 - acc: 0.9838 - val_loss: 0.7610 - val_acc: 0.7000\n"
     ]
    }
   ],
   "source": [
    "# try using different optimizers and different optimizer configs\n",
    "model.compile(loss='binary_crossentropy',\n",
    "              optimizer='adam',\n",
    "              metrics=['accuracy'])\n",
    "\n",
    "history = model.fit(X_train, y_train, epochs=30, validation_data=(X_test, y_test))"
   ]
  },
  {
   "cell_type": "code",
   "execution_count": 52,
   "metadata": {},
   "outputs": [
    {
     "name": "stdout",
     "output_type": "stream",
     "text": [
      "800/800 [==============================] - 0s 476us/step\n",
      "Train score: 0.005581369437277317\n",
      "Train accuracy: 1.0\n",
      "200/200 [==============================] - 0s 380us/step\n",
      "Test score: 0.7610415077209473\n",
      "Test accuracy: 0.7\n"
     ]
    },
    {
     "data": {
      "image/png": "[encoded data removed]",
      "text/plain": [
       "<Figure size 432x288 with 1 Axes>"
      ]
     },
     "metadata": {
      "needs_background": "light"
     },
     "output_type": "display_data"
    }
   ],
   "source": [
    "score, acc = model.evaluate(X_train, y_train, batch_size=batch_size)\n",
    "print('Train score:', score)\n",
    "print('Train accuracy:', acc)\n",
    "\n",
    "score, acc = model.evaluate(X_test, y_test, batch_size=batch_size)\n",
    "print('Test score:', score)\n",
    "print('Test accuracy:', acc)\n",
    "\n",
    "# Plot the accuracy curves for training and validation \n",
    "pyplot.plot(history.history['acc'], color='b', label=\"Training accuracy\")\n",
    "pyplot.plot(history.history['val_acc'], color='r',label=\"Validation accuracy\")\n",
    "legend = pyplot.legend(loc='best', shadow=True)"
   ]
  },
  {
   "cell_type": "markdown",
   "metadata": {},
   "source": [
    "# Increase Vocabulary Size and Run Model Again (100d)"
   ]
  },
  {
   "cell_type": "code",
   "execution_count": 53,
   "metadata": {},
   "outputs": [
    {
     "name": "stdout",
     "output_type": "stream",
     "text": [
      "Loaded 400000 word vectors.\n"
     ]
    }
   ],
   "source": [
    "vocabulary_size = 30000   #specify desired size of pre-defined embedding vocabulary \n",
    "\n",
    "tokenizer = Tokenizer(num_words= vocabulary_size)\n",
    "tokenizer.fit_on_texts(documents)\n",
    "\n",
    "# integer encode the documents\n",
    "sequences = tokenizer.texts_to_sequences(documents)\n",
    "embeddings = pad_sequences(sequences, maxlen=50)\n",
    "\n",
    "embeddings_index = dict()\n",
    "f = open('embeddings/gloVe.6B/glove.6B.100d.txt', encoding=\"utf8\")\n",
    "for line in f:\n",
    "    values = line.split()\n",
    "    word = values[0]\n",
    "    coefs = np.asarray(values[1:], dtype='float32')\n",
    "    embeddings_index[word] = coefs\n",
    "f.close()\n",
    "print('Loaded %s word vectors.' % len(embeddings_index))\n",
    "\n",
    "# create a weight matrix for words in training docs\n",
    "embedding_matrix = np.zeros((vocabulary_size, 100))\n",
    "for word, index in tokenizer.word_index.items():\n",
    "    if index > vocabulary_size - 1:\n",
    "        break\n",
    "    else:\n",
    "        embedding_vector = embeddings_index.get(word)\n",
    "        if embedding_vector is not None:\n",
    "            embedding_matrix[index] = embedding_vector"
   ]
  },
  {
   "cell_type": "code",
   "execution_count": 54,
   "metadata": {},
   "outputs": [],
   "source": [
    "# -----------------------------------------------------    \n",
    "# Make embeddings a numpy array for use in an RNN \n",
    "# Create training and test sets with Scikit Learn\n",
    "# -----------------------------------------------------\n",
    "RANDOM_SEED = 9999\n",
    "\n",
    "embeddings_array = np.array(embeddings)\n",
    "\n",
    "# Define the labels to be used 500 negative (0) and 500 positive (1)\n",
    "thumbs_down_up = np.concatenate((np.zeros((500), dtype = np.int32), \n",
    "                      np.ones((500), dtype = np.int32)), axis = 0)\n",
    "\n",
    "# Scikit Learn for random splitting of the data  \n",
    "from sklearn.model_selection import train_test_split\n",
    "\n",
    "# Random splitting of the data in to training (80%) and test (20%)  \n",
    "X_train, X_test, y_train, y_test = \\\n",
    "    train_test_split(embeddings_array, thumbs_down_up, test_size=0.20, \n",
    "                     random_state = RANDOM_SEED)"
   ]
  },
  {
   "cell_type": "code",
   "execution_count": 55,
   "metadata": {},
   "outputs": [
    {
     "name": "stdout",
     "output_type": "stream",
     "text": [
      "_________________________________________________________________\n",
      "Layer (type)                 Output Shape              Param #   \n",
      "=================================================================\n",
      "embedding_11 (Embedding)     (None, 50, 100)           3000000   \n",
      "_________________________________________________________________\n",
      "dropout_6 (Dropout)          (None, 50, 100)           0         \n",
      "_________________________________________________________________\n",
      "conv1d_7 (Conv1D)            (None, 46, 64)            32064     \n",
      "_________________________________________________________________\n",
      "max_pooling1d_7 (MaxPooling1 (None, 11, 64)            0         \n",
      "_________________________________________________________________\n",
      "lstm_12 (LSTM)               (None, 100)               66000     \n",
      "_________________________________________________________________\n",
      "dense_10 (Dense)             (None, 1)                 101       \n",
      "=================================================================\n",
      "Total params: 3,098,165\n",
      "Trainable params: 98,165\n",
      "Non-trainable params: 3,000,000\n",
      "_________________________________________________________________\n"
     ]
    }
   ],
   "source": [
    "model = Sequential()\n",
    "model.add(Embedding(vocabulary_size, 100, input_length=50, trainable=False))\n",
    "model.add(Dropout(0.2))\n",
    "model.add(Conv1D(64, 5, activation='relu'))\n",
    "model.add(MaxPooling1D(pool_size=4))\n",
    "model.add(LSTM(100, dropout=0.2, recurrent_dropout=0.2, return_sequences=False))\n",
    "model.add(Dense(1, activation='sigmoid'))\n",
    "model.summary()"
   ]
  },
  {
   "cell_type": "code",
   "execution_count": 56,
   "metadata": {},
   "outputs": [
    {
     "name": "stdout",
     "output_type": "stream",
     "text": [
      "Train on 800 samples, validate on 200 samples\n",
      "Epoch 1/30\n",
      "800/800 [==============================] - 5s 6ms/step - loss: 0.6933 - acc: 0.4975 - val_loss: 0.6934 - val_acc: 0.4700\n",
      "Epoch 2/30\n",
      "800/800 [==============================] - 1s 1ms/step - loss: 0.6906 - acc: 0.5463 - val_loss: 0.6882 - val_acc: 0.6900\n",
      "Epoch 3/30\n",
      "800/800 [==============================] - 1s 1ms/step - loss: 0.6832 - acc: 0.6050 - val_loss: 0.6764 - val_acc: 0.6800\n",
      "Epoch 4/30\n",
      "800/800 [==============================] - 1s 1ms/step - loss: 0.6506 - acc: 0.6663 - val_loss: 0.6618 - val_acc: 0.5500\n",
      "Epoch 5/30\n",
      "800/800 [==============================] - 1s 1ms/step - loss: 0.6184 - acc: 0.6737 - val_loss: 0.6334 - val_acc: 0.6300\n",
      "Epoch 6/30\n",
      "800/800 [==============================] - 1s 1ms/step - loss: 0.5898 - acc: 0.6812 - val_loss: 0.6422 - val_acc: 0.5950\n",
      "Epoch 7/30\n",
      "800/800 [==============================] - 1s 1ms/step - loss: 0.5508 - acc: 0.7238 - val_loss: 0.6230 - val_acc: 0.6500\n",
      "Epoch 8/30\n",
      "800/800 [==============================] - 1s 1ms/step - loss: 0.5213 - acc: 0.7325 - val_loss: 0.6476 - val_acc: 0.6350\n",
      "Epoch 9/30\n",
      "800/800 [==============================] - 1s 1ms/step - loss: 0.4908 - acc: 0.7800 - val_loss: 0.5857 - val_acc: 0.7200\n",
      "Epoch 10/30\n",
      "800/800 [==============================] - 1s 1ms/step - loss: 0.4423 - acc: 0.7925 - val_loss: 0.6153 - val_acc: 0.6450\n",
      "Epoch 11/30\n",
      "800/800 [==============================] - 1s 1ms/step - loss: 0.3747 - acc: 0.8362 - val_loss: 0.6301 - val_acc: 0.6950\n",
      "Epoch 12/30\n",
      "800/800 [==============================] - 1s 1ms/step - loss: 0.3611 - acc: 0.8387 - val_loss: 0.6004 - val_acc: 0.6950\n",
      "Epoch 13/30\n",
      "800/800 [==============================] - 1s 1ms/step - loss: 0.2693 - acc: 0.8975 - val_loss: 0.6650 - val_acc: 0.6700\n",
      "Epoch 14/30\n",
      "800/800 [==============================] - 1s 1ms/step - loss: 0.2543 - acc: 0.8938 - val_loss: 0.6817 - val_acc: 0.6900\n",
      "Epoch 15/30\n",
      "800/800 [==============================] - 1s 1ms/step - loss: 0.2165 - acc: 0.9200 - val_loss: 0.6989 - val_acc: 0.6700\n",
      "Epoch 16/30\n",
      "800/800 [==============================] - 1s 1ms/step - loss: 0.1857 - acc: 0.9200 - val_loss: 0.7589 - val_acc: 0.6600\n",
      "Epoch 17/30\n",
      "800/800 [==============================] - 1s 1ms/step - loss: 0.1414 - acc: 0.9563 - val_loss: 0.6845 - val_acc: 0.6800\n",
      "Epoch 18/30\n",
      "800/800 [==============================] - 1s 1ms/step - loss: 0.1502 - acc: 0.9450 - val_loss: 0.6700 - val_acc: 0.7000\n",
      "Epoch 19/30\n",
      "800/800 [==============================] - 1s 1ms/step - loss: 0.1351 - acc: 0.9413 - val_loss: 0.7803 - val_acc: 0.6550\n",
      "Epoch 20/30\n",
      "800/800 [==============================] - 1s 1ms/step - loss: 0.1018 - acc: 0.9587 - val_loss: 0.7927 - val_acc: 0.6650\n",
      "Epoch 21/30\n",
      "800/800 [==============================] - 1s 1ms/step - loss: 0.0812 - acc: 0.9788 - val_loss: 0.8725 - val_acc: 0.6600\n",
      "Epoch 22/30\n",
      "800/800 [==============================] - 1s 1ms/step - loss: 0.1204 - acc: 0.9575 - val_loss: 0.8195 - val_acc: 0.6500\n",
      "Epoch 23/30\n",
      "800/800 [==============================] - 1s 1ms/step - loss: 0.0903 - acc: 0.9662 - val_loss: 1.2248 - val_acc: 0.5900\n",
      "Epoch 24/30\n",
      "800/800 [==============================] - 1s 1ms/step - loss: 0.1063 - acc: 0.9662 - val_loss: 0.7700 - val_acc: 0.6050\n",
      "Epoch 25/30\n",
      "800/800 [==============================] - 1s 1ms/step - loss: 0.0764 - acc: 0.9713 - val_loss: 0.9886 - val_acc: 0.6550\n",
      "Epoch 26/30\n",
      "800/800 [==============================] - 1s 1ms/step - loss: 0.0920 - acc: 0.9738 - val_loss: 0.9281 - val_acc: 0.6550\n",
      "Epoch 27/30\n",
      "800/800 [==============================] - 1s 1ms/step - loss: 0.0666 - acc: 0.9750 - val_loss: 0.8248 - val_acc: 0.6400\n",
      "Epoch 28/30\n",
      "800/800 [==============================] - 1s 1ms/step - loss: 0.0534 - acc: 0.9838 - val_loss: 0.8705 - val_acc: 0.6600\n",
      "Epoch 29/30\n",
      "800/800 [==============================] - 1s 1ms/step - loss: 0.0632 - acc: 0.9775 - val_loss: 0.8296 - val_acc: 0.6500\n",
      "Epoch 30/30\n",
      "800/800 [==============================] - 1s 1ms/step - loss: 0.0457 - acc: 0.9862 - val_loss: 0.8572 - val_acc: 0.6500\n"
     ]
    }
   ],
   "source": [
    "# try using different optimizers and different optimizer configs\n",
    "model.compile(loss='binary_crossentropy',\n",
    "              optimizer='adam',\n",
    "              metrics=['accuracy'])\n",
    "\n",
    "history = model.fit(X_train, y_train, epochs=30, validation_data=(X_test, y_test))"
   ]
  },
  {
   "cell_type": "code",
   "execution_count": 57,
   "metadata": {},
   "outputs": [
    {
     "name": "stdout",
     "output_type": "stream",
     "text": [
      "800/800 [==============================] - 0s 346us/step\n",
      "Train score: 0.0030899309739470483\n",
      "Train accuracy: 1.0\n",
      "200/200 [==============================] - 0s 435us/step\n",
      "Test score: 0.8571990966796875\n",
      "Test accuracy: 0.65\n"
     ]
    },
    {
     "data": {
      "image/png": "[encoded data removed]",
      "text/plain": [
       "<Figure size 432x288 with 1 Axes>"
      ]
     },
     "metadata": {
      "needs_background": "light"
     },
     "output_type": "display_data"
    }
   ],
   "source": [
    "score, acc = model.evaluate(X_train, y_train, batch_size=batch_size)\n",
    "print('Train score:', score)\n",
    "print('Train accuracy:', acc)\n",
    "\n",
    "score, acc = model.evaluate(X_test, y_test, batch_size=batch_size)\n",
    "print('Test score:', score)\n",
    "print('Test accuracy:', acc)\n",
    "\n",
    "# Plot the accuracy curves for training and validation \n",
    "pyplot.plot(history.history['acc'], color='b', label=\"Training accuracy\")\n",
    "pyplot.plot(history.history['val_acc'], color='r',label=\"Validation accuracy\")\n",
    "legend = pyplot.legend(loc='best', shadow=True)"
   ]
  },
  {
   "cell_type": "markdown",
   "metadata": {},
   "source": [
    "# Modify Model Hyperparameter Setting (100d)"
   ]
  },
  {
   "cell_type": "code",
   "execution_count": 69,
   "metadata": {},
   "outputs": [
    {
     "name": "stdout",
     "output_type": "stream",
     "text": [
      "Train on 800 samples, validate on 200 samples\n",
      "Epoch 1/30\n",
      "800/800 [==============================] - 5s 6ms/step - loss: 0.0446 - acc: 0.9775 - val_loss: 0.8581 - val_acc: 0.6500\n",
      "Epoch 2/30\n",
      "800/800 [==============================] - 1s 1ms/step - loss: 0.0531 - acc: 0.9800 - val_loss: 0.8527 - val_acc: 0.6500\n",
      "Epoch 3/30\n",
      "800/800 [==============================] - 1s 1ms/step - loss: 0.0320 - acc: 0.9913 - val_loss: 0.8567 - val_acc: 0.6400\n",
      "Epoch 4/30\n",
      "800/800 [==============================] - 1s 1ms/step - loss: 0.0228 - acc: 0.9925 - val_loss: 0.8622 - val_acc: 0.6350\n",
      "Epoch 5/30\n",
      "800/800 [==============================] - 1s 1ms/step - loss: 0.0372 - acc: 0.9888 - val_loss: 0.8647 - val_acc: 0.6350\n",
      "Epoch 6/30\n",
      "800/800 [==============================] - 1s 1ms/step - loss: 0.0364 - acc: 0.9913 - val_loss: 0.8640 - val_acc: 0.6400\n",
      "Epoch 7/30\n",
      "800/800 [==============================] - 1s 1ms/step - loss: 0.0418 - acc: 0.9875 - val_loss: 0.8636 - val_acc: 0.6500\n",
      "Epoch 8/30\n",
      "800/800 [==============================] - 1s 1ms/step - loss: 0.0385 - acc: 0.9900 - val_loss: 0.8680 - val_acc: 0.6400\n",
      "Epoch 9/30\n",
      "800/800 [==============================] - 1s 1ms/step - loss: 0.0449 - acc: 0.9862 - val_loss: 0.8662 - val_acc: 0.6500\n",
      "Epoch 10/30\n",
      "800/800 [==============================] - 1s 1ms/step - loss: 0.0567 - acc: 0.9788 - val_loss: 0.8677 - val_acc: 0.6500\n",
      "Epoch 11/30\n",
      "800/800 [==============================] - 1s 1ms/step - loss: 0.0325 - acc: 0.9900 - val_loss: 0.8703 - val_acc: 0.6500\n",
      "Epoch 12/30\n",
      "800/800 [==============================] - 1s 1ms/step - loss: 0.0464 - acc: 0.9862 - val_loss: 0.8772 - val_acc: 0.6250\n",
      "Epoch 13/30\n",
      "800/800 [==============================] - 1s 1ms/step - loss: 0.0336 - acc: 0.9875 - val_loss: 0.8815 - val_acc: 0.6350\n",
      "Epoch 14/30\n",
      "800/800 [==============================] - 1s 1ms/step - loss: 0.0283 - acc: 0.9900 - val_loss: 0.8771 - val_acc: 0.6300\n",
      "Epoch 15/30\n",
      "800/800 [==============================] - 1s 1ms/step - loss: 0.0286 - acc: 0.9925 - val_loss: 0.8768 - val_acc: 0.6500\n",
      "Epoch 16/30\n",
      "800/800 [==============================] - 1s 1ms/step - loss: 0.0313 - acc: 0.9875 - val_loss: 0.8817 - val_acc: 0.6500\n",
      "Epoch 17/30\n",
      "800/800 [==============================] - 1s 1ms/step - loss: 0.0306 - acc: 0.9913 - val_loss: 0.8940 - val_acc: 0.6350\n",
      "Epoch 18/30\n",
      "800/800 [==============================] - 1s 1ms/step - loss: 0.0350 - acc: 0.9888 - val_loss: 0.8861 - val_acc: 0.6500\n",
      "Epoch 19/30\n",
      "800/800 [==============================] - 1s 1ms/step - loss: 0.0299 - acc: 0.9900 - val_loss: 0.8912 - val_acc: 0.6450\n",
      "Epoch 20/30\n",
      "800/800 [==============================] - 1s 1ms/step - loss: 0.0329 - acc: 0.9913 - val_loss: 0.8984 - val_acc: 0.6350\n",
      "Epoch 21/30\n",
      "800/800 [==============================] - 1s 1ms/step - loss: 0.0446 - acc: 0.9850 - val_loss: 0.8888 - val_acc: 0.6500\n",
      "Epoch 22/30\n",
      "800/800 [==============================] - 1s 1ms/step - loss: 0.0261 - acc: 0.9937 - val_loss: 0.8937 - val_acc: 0.6500\n",
      "Epoch 23/30\n",
      "800/800 [==============================] - 1s 1ms/step - loss: 0.0285 - acc: 0.9888 - val_loss: 0.8976 - val_acc: 0.6500\n",
      "Epoch 24/30\n",
      "800/800 [==============================] - 1s 1ms/step - loss: 0.0341 - acc: 0.9862 - val_loss: 0.8988 - val_acc: 0.6500\n",
      "Epoch 25/30\n",
      "800/800 [==============================] - 1s 1ms/step - loss: 0.0338 - acc: 0.9900 - val_loss: 0.9023 - val_acc: 0.6450\n",
      "Epoch 26/30\n",
      "800/800 [==============================] - 1s 1ms/step - loss: 0.0327 - acc: 0.9925 - val_loss: 0.9011 - val_acc: 0.6500\n",
      "Epoch 27/30\n",
      "800/800 [==============================] - 1s 1ms/step - loss: 0.0319 - acc: 0.9900 - val_loss: 0.9060 - val_acc: 0.6300\n",
      "Epoch 28/30\n",
      "800/800 [==============================] - 1s 1ms/step - loss: 0.0315 - acc: 0.9900 - val_loss: 0.9073 - val_acc: 0.6300\n",
      "Epoch 29/30\n",
      "800/800 [==============================] - 1s 1ms/step - loss: 0.0285 - acc: 0.9925 - val_loss: 0.9101 - val_acc: 0.6300\n",
      "Epoch 30/30\n",
      "800/800 [==============================] - 1s 1ms/step - loss: 0.0230 - acc: 0.9925 - val_loss: 0.9097 - val_acc: 0.6500\n"
     ]
    }
   ],
   "source": [
    "# compile model\n",
    "opt = optimizers.Adam(lr=1e-5)\n",
    "model.compile(loss='binary_crossentropy',\n",
    "              optimizer=opt,   \n",
    "              metrics=['accuracy'])\n",
    "\n",
    "history = model.fit(X_train, y_train, epochs=30, validation_data=(X_test, y_test))"
   ]
  },
  {
   "cell_type": "code",
   "execution_count": 71,
   "metadata": {},
   "outputs": [
    {
     "name": "stdout",
     "output_type": "stream",
     "text": [
      "800/800 [==============================] - 0s 316us/step\n",
      "Train score: 0.0020563302654772997\n",
      "Train accuracy: 1.0\n",
      "200/200 [==============================] - 0s 950us/step\n",
      "Test score: 0.9097100806236267\n",
      "Test accuracy: 0.65\n"
     ]
    },
    {
     "data": {
      "image/png": "[encoded data removed]",
      "text/plain": [
       "<Figure size 432x288 with 1 Axes>"
      ]
     },
     "metadata": {
      "needs_background": "light"
     },
     "output_type": "display_data"
    }
   ],
   "source": [
    "score, acc = model.evaluate(X_train, y_train, batch_size=batch_size)\n",
    "print('Train score:', score)\n",
    "print('Train accuracy:', acc)\n",
    "\n",
    "score, acc = model.evaluate(X_test, y_test, batch_size=batch_size)\n",
    "print('Test score:', score)\n",
    "print('Test accuracy:', acc)\n",
    "\n",
    "# Plot the accuracy curves for training and validation \n",
    "pyplot.plot(history.history['acc'], color='b', label=\"Training accuracy\")\n",
    "pyplot.plot(history.history['val_acc'], color='r',label=\"Validation accuracy\")\n",
    "legend = pyplot.legend(loc='best', shadow=True)"
   ]
  },
  {
   "cell_type": "code",
   "execution_count": null,
   "metadata": {},
   "outputs": [],
   "source": []
  }
 ],
 "metadata": {
  "kernelspec": {
   "display_name": "Python 3",
   "language": "python",
   "name": "python3"
  },
  "language_info": {
   "codemirror_mode": {
    "name": "ipython",
    "version": 3
   },
   "file_extension": ".py",
   "mimetype": "text/x-python",
   "name": "python",
   "nbconvert_exporter": "python",
   "pygments_lexer": "ipython3",
   "version": "3.7.3"
  }
 },
 "nbformat": 4,
 "nbformat_minor": 2
}
