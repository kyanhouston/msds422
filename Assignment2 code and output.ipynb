{
 "cells": [
  {
   "cell_type": "code",
   "execution_count": 1,
   "metadata": {},
   "outputs": [],
   "source": [
    "#import libaries\n",
    "import numpy as np   #mathematics\n",
    "import pandas as pd  #data\n",
    "\n",
    "import seaborn as sns #graphics\n",
    "import os #manage files\n",
    "import matplotlib.pyplot as plt  #plots\n",
    "from matplotlib import rc\n",
    "\n",
    "import sklearn \n",
    "from sklearn.model_selection import train_test_split as tts\n",
    "from sklearn.utils import resample\n",
    "from sklearn.linear_model import LogisticRegressionCV\n",
    "from sklearn.linear_model import LogisticRegression\n",
    "\n",
    "from scipy import stats as st\n",
    "import itertools\n",
    "import tabulate   #need to install the package first. Go to Anaconda Prompt and type: conda install tabulate\n",
    "os.chdir('C:\\\\Users\\\\A4 Dell\\\\Desktop\\\\Northwestern University\\\\Practical Machine Learning\\\\week2')\n",
    "\n",
    "RANDOM_SEED = 1 # seed value for random number generator           "
   ]
  },
  {
   "cell_type": "code",
   "execution_count": 2,
   "metadata": {},
   "outputs": [
    {
     "name": "stdout",
     "output_type": "stream",
     "text": [
      "(4521, 17)\n",
      "['age', 'job', 'marital', 'education', 'default', 'balance', 'housing', 'loan', 'contact', 'day', 'month', 'duration', 'campaign', 'pdays', 'previous', 'poutcome', 'response']\n"
     ]
    }
   ],
   "source": [
    "############################ Read Data and Examine #####################\n",
    "bank1 = pd.read_csv('bank.csv', sep = ';') \n",
    "bank1 = bank1.dropna()\n",
    "print(bank1.shape)\n",
    "print(list(bank1.columns))"
   ]
  },
  {
   "cell_type": "code",
   "execution_count": 3,
   "metadata": {},
   "outputs": [
    {
     "name": "stdout",
     "output_type": "stream",
     "text": [
      "   age          job  marital  education default  balance housing loan  \\\n",
      "0   30   unemployed  married    primary      no     1787      no   no   \n",
      "1   33     services  married  secondary      no     4789     yes  yes   \n",
      "2   35   management   single   tertiary      no     1350     yes   no   \n",
      "3   30   management  married   tertiary      no     1476     yes  yes   \n",
      "4   59  blue-collar  married  secondary      no        0     yes   no   \n",
      "\n",
      "    contact  day month  duration  campaign  pdays  previous poutcome response  \n",
      "0  cellular   19   oct        79         1     -1         0  unknown       no  \n",
      "1  cellular   11   may       220         1    339         4  failure       no  \n",
      "2  cellular   16   apr       185         1    330         1  failure       no  \n",
      "3   unknown    3   jun       199         4     -1         0  unknown       no  \n",
      "4   unknown    5   may       226         1     -1         0  unknown       no  \n",
      "   age  balance  day  duration  campaign  pdays  previous  job_admin.  \\\n",
      "0   30     1787   19        79         1     -1         0           0   \n",
      "1   33     4789   11       220         1    339         4           0   \n",
      "2   35     1350   16       185         1    330         1           0   \n",
      "3   30     1476    3       199         4     -1         0           0   \n",
      "4   59        0    5       226         1     -1         0           0   \n",
      "\n",
      "   job_blue-collar  job_entrepreneur      ...       month_may  month_nov  \\\n",
      "0                0                 0      ...               0          0   \n",
      "1                0                 0      ...               1          0   \n",
      "2                0                 0      ...               0          0   \n",
      "3                0                 0      ...               0          0   \n",
      "4                1                 0      ...               1          0   \n",
      "\n",
      "   month_oct  month_sep  poutcome_failure  poutcome_other  poutcome_success  \\\n",
      "0          1          0                 0               0                 0   \n",
      "1          0          0                 1               0                 0   \n",
      "2          0          0                 1               0                 0   \n",
      "3          0          0                 0               0                 0   \n",
      "4          0          0                 0               0                 0   \n",
      "\n",
      "   poutcome_unknown  response_no  response_yes  \n",
      "0                 1            1             0  \n",
      "1                 0            1             0  \n",
      "2                 0            1             0  \n",
      "3                 1            1             0  \n",
      "4                 1            1             0  \n",
      "\n",
      "[5 rows x 53 columns]\n"
     ]
    }
   ],
   "source": [
    "############################ Generate Dummy Variables #####################\n",
    "bank=pd.get_dummies(bank1) #Convert categorical values to dummy variables for use in modeling\n",
    "            #One categorical variable is transformed to N dummy variables (N is # of levels)\n",
    "    \n",
    "print(pd.DataFrame.head(bank1)) #Header of the original data \n",
    "print(pd.DataFrame.head(bank)) #Header of the transfored data with more dummy variables"
   ]
  },
  {
   "cell_type": "code",
   "execution_count": 4,
   "metadata": {},
   "outputs": [
    {
     "data": {
      "image/png": "[encoded data removed]",
      "text/plain": [
       "<Figure size 432x288 with 1 Axes>"
      ]
     },
     "metadata": {
      "needs_background": "light"
     },
     "output_type": "display_data"
    },
    {
     "name": "stdout",
     "output_type": "stream",
     "text": [
      "Housing      0     1\n",
      "Response            \n",
      "0         1661  2339\n",
      "1          301   220 \n",
      "\n",
      "Loan         0    1\n",
      "Response           \n",
      "0         3352  648\n",
      "1          478   43 \n",
      "\n",
      "Default      0   1\n",
      "Response          \n",
      "0         3933  67\n",
      "1          512   9 \n",
      "\n"
     ]
    }
   ],
   "source": [
    "####################### Crosstabs and Plot ###########################\n",
    "bank['response_yes'].value_counts()\n",
    "sns.countplot(x='response_yes',data=bank, palette='hls')\n",
    "plt.show()  #barplot of responses\n",
    "\n",
    "a=pd.crosstab(bank.response_yes, bank.housing_yes, \n",
    "            rownames=['Response'], colnames=['Housing'])\n",
    "\n",
    "b=pd.crosstab(bank.response_yes, bank.loan_yes, \n",
    "            rownames=['Response'], colnames=['Loan'])\n",
    "\n",
    "c=pd.crosstab(bank.response_yes, bank.default_yes, \n",
    "            rownames=['Response'], colnames=['Default'])\n",
    "\n",
    "print(a,\"\\n\")\n",
    "print(b,\"\\n\")\n",
    "print(c,\"\\n\")"
   ]
  },
  {
   "cell_type": "code",
   "execution_count": 7,
   "metadata": {},
   "outputs": [
    {
     "data": {
      "text/html": [
       "<div>\n",
       "<style scoped>\n",
       "    .dataframe tbody tr th:only-of-type {\n",
       "        vertical-align: middle;\n",
       "    }\n",
       "\n",
       "    .dataframe tbody tr th {\n",
       "        vertical-align: top;\n",
       "    }\n",
       "\n",
       "    .dataframe thead th {\n",
       "        text-align: right;\n",
       "    }\n",
       "</style>\n",
       "<table border=\"1\" class=\"dataframe\">\n",
       "  <thead>\n",
       "    <tr style=\"text-align: right;\">\n",
       "      <th></th>\n",
       "      <th>age</th>\n",
       "      <th>balance</th>\n",
       "      <th>day</th>\n",
       "      <th>duration</th>\n",
       "      <th>campaign</th>\n",
       "      <th>pdays</th>\n",
       "      <th>previous</th>\n",
       "    </tr>\n",
       "    <tr>\n",
       "      <th>response</th>\n",
       "      <th></th>\n",
       "      <th></th>\n",
       "      <th></th>\n",
       "      <th></th>\n",
       "      <th></th>\n",
       "      <th></th>\n",
       "      <th></th>\n",
       "    </tr>\n",
       "  </thead>\n",
       "  <tbody>\n",
       "    <tr>\n",
       "      <th>no</th>\n",
       "      <td>40.998000</td>\n",
       "      <td>1403.211750</td>\n",
       "      <td>15.948750</td>\n",
       "      <td>226.347500</td>\n",
       "      <td>2.862250</td>\n",
       "      <td>36.006000</td>\n",
       "      <td>0.471250</td>\n",
       "    </tr>\n",
       "    <tr>\n",
       "      <th>yes</th>\n",
       "      <td>42.491363</td>\n",
       "      <td>1571.955854</td>\n",
       "      <td>15.658349</td>\n",
       "      <td>552.742802</td>\n",
       "      <td>2.266795</td>\n",
       "      <td>68.639155</td>\n",
       "      <td>1.090211</td>\n",
       "    </tr>\n",
       "  </tbody>\n",
       "</table>\n",
       "</div>"
      ],
      "text/plain": [
       "                age      balance        day    duration  campaign      pdays  \\\n",
       "response                                                                       \n",
       "no        40.998000  1403.211750  15.948750  226.347500  2.862250  36.006000   \n",
       "yes       42.491363  1571.955854  15.658349  552.742802  2.266795  68.639155   \n",
       "\n",
       "          previous  \n",
       "response            \n",
       "no        0.471250  \n",
       "yes       1.090211  "
      ]
     },
     "execution_count": 7,
     "metadata": {},
     "output_type": "execute_result"
    }
   ],
   "source": [
    "bank1.groupby('response').mean()  #check the mean values of the continuous variables"
   ]
  },
  {
   "cell_type": "code",
   "execution_count": 8,
   "metadata": {},
   "outputs": [
    {
     "data": {
      "text/plain": [
       "<matplotlib.legend.Legend at 0x1ddc48e6f60>"
      ]
     },
     "execution_count": 8,
     "metadata": {},
     "output_type": "execute_result"
    },
    {
     "data": {
      "image/png": "[encoded data removed]",
      "text/plain": [
       "<Figure size 432x288 with 1 Axes>"
      ]
     },
     "metadata": {
      "needs_background": "light"
     },
     "output_type": "display_data"
    },
    {
     "data": {
      "image/png": "[encoded data removed]",
      "text/plain": [
       "<Figure size 432x288 with 1 Axes>"
      ]
     },
     "metadata": {
      "needs_background": "light"
     },
     "output_type": "display_data"
    },
    {
     "data": {
      "image/png": "[encoded data removed]",
      "text/plain": [
       "<Figure size 432x288 with 1 Axes>"
      ]
     },
     "metadata": {
      "needs_background": "light"
     },
     "output_type": "display_data"
    },
    {
     "data": {
      "image/png": "[encoded data removed]",
      "text/plain": [
       "<Figure size 432x288 with 1 Axes>"
      ]
     },
     "metadata": {
      "needs_background": "light"
     },
     "output_type": "display_data"
    }
   ],
   "source": [
    "#visualize the crosstabs using bar charts\n",
    "\n",
    "#bar chart Housing vs Response\n",
    "a=pd.crosstab(bank1.response, bank1.housing)\n",
    "a.plot(kind='bar')\n",
    "plt.title('Bar Chart of Housing vs Response')\n",
    "plt.xlabel('Housing')\n",
    "plt.ylabel('Frequency of Response')\n",
    "plt.legend(title='Response')\n",
    "\n",
    "#stacked bar chart Housing vs Response\n",
    "a.div(a.sum(1).astype(float), axis=0).plot(kind='bar', stacked=True)\n",
    "plt.title('Stacked Bar Chart of Housing vs Response')\n",
    "plt.xlabel('Housing')\n",
    "plt.ylabel('Proportion of Customers')\n",
    "plt.legend(title='Response')\n",
    "\n",
    "#bar chart Loan vs Response\n",
    "b=pd.crosstab(bank1.response, bank1.loan)\n",
    "b.plot(kind='bar')\n",
    "plt.title('Bar Chart of Loan vs Response')\n",
    "plt.xlabel('Loan')\n",
    "plt.ylabel('Frequency of Response')\n",
    "plt.legend(title='Response')\n",
    "\n",
    "#bar chart Default vs Response\n",
    "c=pd.crosstab(bank1.response, bank1.default)\n",
    "c.plot(kind='bar')\n",
    "plt.title('Bar Chart of Default vs Response')\n",
    "plt.xlabel('Default')\n",
    "plt.ylabel('Frequency of Response')\n",
    "plt.legend(title='Response')"
   ]
  },
  {
   "cell_type": "code",
   "execution_count": 9,
   "metadata": {},
   "outputs": [
    {
     "data": {
      "image/png": "[encoded data removed]",
      "text/plain": [
       "<Figure size 360x360 with 1 Axes>"
      ]
     },
     "metadata": {
      "needs_background": "light"
     },
     "output_type": "display_data"
    },
    {
     "data": {
      "image/png": "[encoded data removed]",
      "text/plain": [
       "<Figure size 413.5x360 with 1 Axes>"
      ]
     },
     "metadata": {
      "needs_background": "light"
     },
     "output_type": "display_data"
    },
    {
     "data": {
      "image/png": "[encoded data removed]",
      "text/plain": [
       "<Figure size 413.5x360 with 1 Axes>"
      ]
     },
     "metadata": {
      "needs_background": "light"
     },
     "output_type": "display_data"
    },
    {
     "data": {
      "image/png": "[encoded data removed]",
      "text/plain": [
       "<Figure size 413.5x360 with 1 Axes>"
      ]
     },
     "metadata": {
      "needs_background": "light"
     },
     "output_type": "display_data"
    },
    {
     "data": {
      "image/png": "[encoded data removed]",
      "text/plain": [
       "<Figure size 413.5x360 with 1 Axes>"
      ]
     },
     "metadata": {
      "needs_background": "light"
     },
     "output_type": "display_data"
    }
   ],
   "source": [
    "fig4=sns.catplot(x=\"response\", y=\"balance\", data=bank1)  #Response vs Balance\n",
    "fig5=sns.catplot(x=\"loan\", y=\"balance\", hue=\"response\", kind=\"boxen\", data=bank1)  #Loan vs Balance\n",
    "fig6=sns.catplot(x=\"housing\", y=\"balance\", hue=\"response\", kind=\"boxen\", data=bank1) #Housing vs Balance\n",
    "fig7=sns.catplot(x=\"default\", y=\"balance\", hue=\"response\", kind=\"boxen\", data=bank1) #Default vs Balance\n",
    "fig8=sns.catplot(x=\"default\", y=\"age\", hue=\"response\", kind=\"boxen\", data=bank1)    #Default vs Age"
   ]
  },
  {
   "cell_type": "code",
   "execution_count": 11,
   "metadata": {},
   "outputs": [
    {
     "name": "stdout",
     "output_type": "stream",
     "text": [
      "\u001b[1m Odds for Response Yes for Each Variable with 95% CI \u001b[0m\n",
      "If housing=yes, odds for response=yes: [0.519, 0.498, 0.541]\n",
      "If loan=yes, odds for response=yes: [0.465, 0.451, 0.48]\n",
      "If default=yes, odds for response=yes [1.032, 1.002, 1.063]\n"
     ]
    }
   ],
   "source": [
    "a=pd.crosstab(bank.response_yes, bank.housing_yes, \n",
    "            rownames=['Response'], colnames=['Housing'])\n",
    "\n",
    "b=pd.crosstab(bank.response_yes, bank.loan_yes, \n",
    "            rownames=['Response'], colnames=['Loan'])\n",
    "\n",
    "c=pd.crosstab(bank.response_yes, bank.default_yes, \n",
    "            rownames=['Response'], colnames=['Default'])\n",
    "\n",
    "####################### Calculate Odds Ratio using the defined function ###########################\n",
    "def myor(a):\n",
    "        myv=round((a.loc[1,1]/a.loc[0,1])/(a.loc[1,0]/a.loc[0,0]),3) #Odds Ratio = (p1/(1-p1))/(p12/(1-p2))\n",
    "        logmyv=np.log(myv)  #get the log values\n",
    "        se=np.sqrt(1/(a.loc[1,1]+1/a.loc[0,1]+a.loc[1,0]+a.loc[0,0])) #standard error\n",
    "        lower=round(np.exp(logmyv-1.96*se),3)    #lower CI\n",
    "        upper=round(np.exp(logmyv+1.96*se),3)   #upper CI\n",
    "        return [myv, lower, upper]\n",
    "  \n",
    "print('\\033[1m',\"Odds for Response Yes for Each Variable with 95% CI\", '\\033[0m')\n",
    "print(\"If housing=yes, odds for response=yes:\", myor(a))\n",
    "print(\"If loan=yes, odds for response=yes:\", myor(b))\n",
    "print(\"If default=yes, odds for response=yes\", myor(c))"
   ]
  },
  {
   "cell_type": "code",
   "execution_count": 12,
   "metadata": {},
   "outputs": [
    {
     "name": "stdout",
     "output_type": "stream",
     "text": [
      "% defaults: 11.52\n"
     ]
    }
   ],
   "source": [
    "####################### Build Train and Test data ###########################\n",
    "X,y=np.array(bank[['loan_yes', 'default_yes', 'housing_yes']]),np.array(bank['response_yes'])  #specify X's and y\n",
    "X_train, X_test, y_train, y_test=tts(X, y, test_size=0.3, random_state=42)   #split into train and test data (70% vs 30%)\n",
    "print(\"% defaults:\", round(100*sum(y) / len(y),2))"
   ]
  },
  {
   "cell_type": "code",
   "execution_count": 14,
   "metadata": {},
   "outputs": [
    {
     "name": "stdout",
     "output_type": "stream",
     "text": [
      "\n",
      "Training data has 369 rows with reponse=1 and 2795 rows with response=0.\n",
      "\n",
      "There is upsampling issue.\n"
     ]
    }
   ],
   "source": [
    "#check if the training data set has balanced distribution of the response variable\n",
    "minority, majority = X_train[y_train==1], X_train[y_train==0] #bifurcate\n",
    "print(\"\\nTraining data has\", len(minority), \"rows with reponse=1 and\", len(majority), \"rows with response=0.\" )\n",
    "print(\"\\nThere is upsampling issue.\")\n",
    "oversample=len(majority)"
   ]
  },
  {
   "cell_type": "code",
   "execution_count": 15,
   "metadata": {},
   "outputs": [
    {
     "name": "stdout",
     "output_type": "stream",
     "text": [
      "0.5\n"
     ]
    }
   ],
   "source": [
    "######### Resample with Replacement ##############################\n",
    "minority= resample(minority, replace=True, n_samples=oversample, random_state=123) \n",
    "len(minority)\n",
    "\n",
    "######### Rebuild the training set with the upsampled data ########\n",
    "X_train1 = np.concatenate((minority, majority))\n",
    "a,b = np.repeat(1,oversample),np.repeat(0,len(majority)) \n",
    "y_train1 = np.append(a, b)\n",
    "print(sum(y_train1)/len(y_train1))  #Now we have 50/50 samples with response 1 and 0"
   ]
  },
  {
   "cell_type": "code",
   "execution_count": 16,
   "metadata": {},
   "outputs": [
    {
     "data": {
      "text/plain": [
       "array([1, 1, 1, ..., 0, 0, 0])"
      ]
     },
     "execution_count": 16,
     "metadata": {},
     "output_type": "execute_result"
    }
   ],
   "source": [
    "# take a look of X variables and y variable\n",
    "X_train1\n",
    "y_train1"
   ]
  },
  {
   "cell_type": "code",
   "execution_count": 17,
   "metadata": {},
   "outputs": [
    {
     "data": {
      "text/plain": [
       "array([[0, 0, 0],\n",
       "       [0, 0, 1],\n",
       "       [0, 0, 0],\n",
       "       ...,\n",
       "       [0, 0, 1],\n",
       "       [0, 0, 0],\n",
       "       [0, 0, 0]], dtype=uint8)"
      ]
     },
     "execution_count": 17,
     "metadata": {},
     "output_type": "execute_result"
    }
   ],
   "source": [
    "X_train1"
   ]
  },
  {
   "cell_type": "code",
   "execution_count": 18,
   "metadata": {},
   "outputs": [],
   "source": [
    "###Import libraries for logistic regression and naive bayes\n",
    "from sklearn.metrics import roc_auc_score as roc\n",
    "from sklearn.metrics import confusion_matrix\n",
    "from sklearn.naive_bayes import BernoulliNB \n",
    "from sklearn.linear_model import LogisticRegression \n",
    "from sklearn.model_selection import cross_val_score\n",
    "from sklearn import metrics\n",
    "\n",
    "nfolds=10   #set up number of folds for k-fold cross validation"
   ]
  },
  {
   "cell_type": "code",
   "execution_count": 20,
   "metadata": {},
   "outputs": [
    {
     "data": {
      "text/plain": [
       "LogisticRegression(C=1000000000.0, class_weight=None, dual=False,\n",
       "          fit_intercept=True, intercept_scaling=1, max_iter=100,\n",
       "          multi_class='ovr', n_jobs=None, penalty='l2', random_state=None,\n",
       "          solver='lbfgs', tol=0.0001, verbose=0, warm_start=False)"
      ]
     },
     "execution_count": 20,
     "metadata": {},
     "output_type": "execute_result"
    }
   ],
   "source": [
    "#run logistic regression\n",
    "logreg = LogisticRegression(solver=\"lbfgs\", multi_class=\"ovr\", C=1e9) #logistic regression model\n",
    "logreg.fit(X_train1, y_train1)"
   ]
  },
  {
   "cell_type": "code",
   "execution_count": 21,
   "metadata": {},
   "outputs": [
    {
     "name": "stdout",
     "output_type": "stream",
     "text": [
      "[[-0.50588148  0.24753877 -0.65653639]]\n"
     ]
    }
   ],
   "source": [
    "print(logreg.coef_)   #print out the coefficients for the explanatory variables (Loan, Default, Housing)"
   ]
  },
  {
   "cell_type": "code",
   "execution_count": 22,
   "metadata": {},
   "outputs": [
    {
     "name": "stdout",
     "output_type": "stream",
     "text": [
      "Accuracy of LR: \n",
      " [0.57678571 0.58035714 0.59285714 0.58214286 0.61964286 0.60573477\n",
      " 0.58960573 0.59677419 0.62903226 0.58781362]\n"
     ]
    }
   ],
   "source": [
    "mycvs = cross_val_score(logreg,X_train1,y_train1,cv=nfolds)\n",
    "print(\"Accuracy of LR: \\n\", mycvs)   #print out the 10 accuracy scores"
   ]
  },
  {
   "cell_type": "code",
   "execution_count": 23,
   "metadata": {},
   "outputs": [
    {
     "data": {
      "text/plain": [
       "BernoulliNB(alpha=1.0, binarize=0.0, class_prior=None, fit_prior=True)"
      ]
     },
     "execution_count": 23,
     "metadata": {},
     "output_type": "execute_result"
    }
   ],
   "source": [
    "#run naive bayes classifier\n",
    "clf_nb = BernoulliNB()\n",
    "clf_nb.fit(X_train1, y_train1)"
   ]
  },
  {
   "cell_type": "code",
   "execution_count": 24,
   "metadata": {},
   "outputs": [
    {
     "name": "stdout",
     "output_type": "stream",
     "text": [
      "\n",
      " Accuracy of NB: \n",
      " [0.57678571 0.58035714 0.59285714 0.58571429 0.61964286 0.60573477\n",
      " 0.58960573 0.59677419 0.62903226 0.58781362]\n"
     ]
    }
   ],
   "source": [
    "mycvs_nb = cross_val_score(clf_nb, X_train1, y_train1, cv=nfolds)   \n",
    "print(\"\\n Accuracy of NB: \\n\", mycvs_nb)   #print out the 10 accuracy scores"
   ]
  },
  {
   "cell_type": "code",
   "execution_count": 25,
   "metadata": {},
   "outputs": [
    {
     "data": {
      "text/plain": [
       "<matplotlib.collections.PathCollection at 0x1ddc43c8e10>"
      ]
     },
     "execution_count": 25,
     "metadata": {},
     "output_type": "execute_result"
    },
    {
     "data": {
      "image/png": "[encoded data removed]",
      "text/plain": [
       "<Figure size 432x288 with 1 Axes>"
      ]
     },
     "metadata": {
      "needs_background": "light"
     },
     "output_type": "display_data"
    }
   ],
   "source": [
    "from matplotlib.pyplot import scatter\n",
    "scatter(mycvs, mycvs_nb)\n",
    "\n",
    "#The two models produce the same results as the training set size \n",
    "#approaches ∞ IF the Naive Bayes assumption holds that the Xi’s are \n",
    "#conditionally independent of one another given y. "
   ]
  },
  {
   "cell_type": "code",
   "execution_count": 26,
   "metadata": {},
   "outputs": [],
   "source": [
    "######### Fit Training data, Get Confusion Matrix, Calculate AUC/PPV/NPV ########\n",
    "#fit logstic regression\n",
    "logreg.fit(X_train1,y_train1)   #fit the model according to the given training data\n",
    "mypred=logreg.predict_proba(X_train1)  #get probability estimates\n",
    "mypred = [p[1] for p in mypred]\n",
    "mypredclass=logreg.predict(X_train1)   #predict class labels for samples in X_train1.\n",
    "\n",
    "#fit naive bayes\n",
    "clf_nb.fit(X_train1,y_train1)\n",
    "mypred1=clf_nb.predict_proba(X_train1)\n",
    "mypred1=[p[1] for p in mypred1]\n",
    "mypredclass1=clf_nb.predict(X_train1)\n",
    "\n",
    "def metrics(y,mypred):\n",
    "    print(\"Area Under the Curve:\", roc(y,mypred))\n",
    "    myconfusion = confusion_matrix(y,mypredclass)\n",
    "    PPV=(myconfusion[1,1]/(myconfusion[1,0]+myconfusion[1,1]))\n",
    "    NPV=(myconfusion[0,0]/(myconfusion[0,0]+myconfusion[0,1]))\n",
    "    print(\"\\n Confusion Matrix: \\n\",myconfusion)\n",
    "    print(\"\\n PPV, Correctly Classifies Response Yes: \\n\", PPV)\n",
    "    print(\"\\n NPV, Correctly Classifies Response No: \\n\", NPV)"
   ]
  },
  {
   "cell_type": "code",
   "execution_count": 27,
   "metadata": {},
   "outputs": [
    {
     "name": "stdout",
     "output_type": "stream",
     "text": [
      "Area Under the Curve: 0.5985032689987552\n",
      "\n",
      " Confusion Matrix: \n",
      " [[1801  994]\n",
      " [1253 1542]]\n",
      "\n",
      " PPV, Correctly Classifies Response Yes: \n",
      " 0.5516994633273703\n",
      "\n",
      " NPV, Correctly Classifies Response No: \n",
      " 0.6443649373881932\n"
     ]
    }
   ],
   "source": [
    "metrics(y_train1,mypred)   #for logistic regression fit"
   ]
  },
  {
   "cell_type": "code",
   "execution_count": 28,
   "metadata": {},
   "outputs": [
    {
     "name": "stdout",
     "output_type": "stream",
     "text": [
      "Area Under the Curve: 0.5985032689987552\n",
      "\n",
      " Confusion Matrix: \n",
      " [[1801  994]\n",
      " [1253 1542]]\n",
      "\n",
      " PPV, Correctly Classifies Response Yes: \n",
      " 0.5516994633273703\n",
      "\n",
      " NPV, Correctly Classifies Response No: \n",
      " 0.6443649373881932\n"
     ]
    }
   ],
   "source": [
    "metrics(y_train1,mypred1)  #for naive bayes fit"
   ]
  },
  {
   "cell_type": "code",
   "execution_count": 29,
   "metadata": {},
   "outputs": [],
   "source": [
    "######### Fit Test data, Get Confusion Matrix, Calculate AUC/PPV/NPV ########\n",
    "mypred=logreg.predict_proba(X_test)\n",
    "mypred = [p[1] for p in mypred]\n",
    "mypredclass=logreg.predict(X_test)\n",
    "\n",
    "mypred1=clf_nb.predict_proba(X_test)\n",
    "mypred1=[p[1] for p in mypred1]\n",
    "mypredclass1=clf_nb.predict(X_test)"
   ]
  },
  {
   "cell_type": "code",
   "execution_count": 30,
   "metadata": {},
   "outputs": [
    {
     "name": "stdout",
     "output_type": "stream",
     "text": [
      "Area Under the Curve: 0.5959407075780739\n",
      "\n",
      " Confusion Matrix: \n",
      " [[793 412]\n",
      " [ 72  80]]\n",
      "\n",
      " PPV, Correctly Classifies Response Yes: \n",
      " 0.5263157894736842\n",
      "\n",
      " NPV, Correctly Classifies Response No: \n",
      " 0.6580912863070539\n"
     ]
    }
   ],
   "source": [
    "metrics(y_test, mypred)   #for logistic regression fit"
   ]
  },
  {
   "cell_type": "code",
   "execution_count": 31,
   "metadata": {},
   "outputs": [
    {
     "name": "stdout",
     "output_type": "stream",
     "text": [
      "Area Under the Curve: 0.5959407075780739\n",
      "\n",
      " Confusion Matrix: \n",
      " [[793 412]\n",
      " [ 72  80]]\n",
      "\n",
      " PPV, Correctly Classifies Response Yes: \n",
      " 0.5263157894736842\n",
      "\n",
      " NPV, Correctly Classifies Response No: \n",
      " 0.6580912863070539\n"
     ]
    }
   ],
   "source": [
    "metrics(y_test,mypred1)  #for naive bayes fit"
   ]
  },
  {
   "cell_type": "code",
   "execution_count": 32,
   "metadata": {},
   "outputs": [],
   "source": [
    "######### Plot ROC Curve to show the classificaiton performance ########\n",
    "from sklearn.metrics import roc_curve, auc\n",
    "\n",
    "fpr, tpr, thresholds = roc_curve(mypredclass, y_test)\n",
    "roc_auc = auc(fpr, tpr)"
   ]
  },
  {
   "cell_type": "code",
   "execution_count": 33,
   "metadata": {},
   "outputs": [
    {
     "data": {
      "image/png": "[encoded data removed]",
      "text/plain": [
       "<Figure size 432x288 with 1 Axes>"
      ]
     },
     "metadata": {
      "needs_background": "light"
     },
     "output_type": "display_data"
    }
   ],
   "source": [
    "plt.figure()\n",
    "plt.plot(fpr, tpr, color='darkorange', lw=1, label='ROC curve (area = %0.2f)' % roc_auc)\n",
    "plt.plot([0, 1], [0, 1], color='navy', linestyle='--')\n",
    "plt.xlim([0.0, 1.0])\n",
    "plt.ylim([0.0, 1.05])\n",
    "plt.xlabel('False Positive Rate')\n",
    "plt.ylabel('True Positive Rate')\n",
    "plt.title('Receiver operating characteristic, Test Set, Logistic Regression (Identical for NB)')\n",
    "plt.legend(loc=\"lower right\")\n",
    "plt.show()"
   ]
  },
  {
   "cell_type": "code",
   "execution_count": 34,
   "metadata": {},
   "outputs": [
    {
     "name": "stdout",
     "output_type": "stream",
     "text": [
      "Accuracy of logistic regression classifier on test set: 0.64\n",
      "Accuracy of naive bayes classifier on test set: 0.64\n"
     ]
    }
   ],
   "source": [
    "#Returns the mean accuracy on the given test data and labels.\n",
    "print('Accuracy of logistic regression classifier on test set: {:.2f}'.format(logreg.score(X_test, y_test)))\n",
    "print('Accuracy of naive bayes classifier on test set: {:.2f}'.format(clf_nb.score(X_test, y_test)))"
   ]
  },
  {
   "cell_type": "code",
   "execution_count": null,
   "metadata": {},
   "outputs": [],
   "source": []
  }
 ],
 "metadata": {
  "kernelspec": {
   "display_name": "Python 3",
   "language": "python",
   "name": "python3"
  },
  "language_info": {
   "codemirror_mode": {
    "name": "ipython",
    "version": 3
   },
   "file_extension": ".py",
   "mimetype": "text/x-python",
   "name": "python",
   "nbconvert_exporter": "python",
   "pygments_lexer": "ipython3",
   "version": "3.7.1"
  }
 },
 "nbformat": 4,
 "nbformat_minor": 2
}
