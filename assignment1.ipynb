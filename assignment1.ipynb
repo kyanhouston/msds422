{
 "cells": [
  {
   "cell_type": "code",
   "execution_count": 1,
   "metadata": {},
   "outputs": [],
   "source": [
    "import pandas as pd  # data  \n",
    "import numpy as np  #mathematics\n",
    "import matplotlib.pyplot as plt  #plots\n",
    "import seaborn as sns  #graphics package\n",
    "from sklearn import datasets  #you might as well get used to sklearn\n",
    "import os #manage files\n",
    "os.chdir('C:\\\\Users\\\\A4 Dell\\\\Desktop\\\\Northwestern University\\\\Practical Machine Learning\\\\week1')"
   ]
  },
  {
   "cell_type": "code",
   "execution_count": null,
   "metadata": {},
   "outputs": [],
   "source": []
  }
 ],
 "metadata": {
  "kernelspec": {
   "display_name": "Python 3",
   "language": "python",
   "name": "python3"
  },
  "language_info": {
   "codemirror_mode": {
    "name": "ipython",
    "version": 3
   },
   "file_extension": ".py",
   "mimetype": "text/x-python",
   "name": "python",
   "nbconvert_exporter": "python",
   "pygments_lexer": "ipython3",
   "version": "3.7.1"
  }
 },
 "nbformat": 4,
 "nbformat_minor": 2
}
